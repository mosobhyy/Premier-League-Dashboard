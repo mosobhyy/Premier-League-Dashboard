{
 "cells": [
  {
   "attachments": {},
   "cell_type": "markdown",
   "metadata": {},
   "source": [
    "# Import Libraries"
   ]
  },
  {
   "cell_type": "code",
   "execution_count": 1,
   "metadata": {},
   "outputs": [],
   "source": [
    "import numpy as np\n",
    "import pandas as pd\n",
    "import os\n",
    "import chardet"
   ]
  },
  {
   "attachments": {},
   "cell_type": "markdown",
   "metadata": {},
   "source": [
    "# Read Data"
   ]
  },
  {
   "cell_type": "code",
   "execution_count": 2,
   "metadata": {},
   "outputs": [
    {
     "data": {
      "text/plain": [
       "['club.csv',\n",
       " 'club.ibd',\n",
       " 'club_stats.csv',\n",
       " 'club_stats.ibd',\n",
       " 'manager.csv',\n",
       " 'manager.ibd',\n",
       " 'manager_club.csv',\n",
       " 'manager_club.ibd',\n",
       " 'match.csv',\n",
       " 'match_.ibd',\n",
       " 'player.csv',\n",
       " 'player.ibd',\n",
       " 'player_club.csv',\n",
       " 'player_club.ibd',\n",
       " 'player_performance.csv',\n",
       " 'player_performance.ibd',\n",
       " 'player_stats.csv',\n",
       " 'player_stats.ibd',\n",
       " 'stadium.csv',\n",
       " 'stadium.ibd']"
      ]
     },
     "execution_count": 2,
     "metadata": {},
     "output_type": "execute_result"
    }
   ],
   "source": [
    "files_names = os.listdir('../../dataset/raw/')\n",
    "files_names"
   ]
  },
  {
   "cell_type": "code",
   "execution_count": 3,
   "metadata": {},
   "outputs": [
    {
     "data": {
      "text/plain": [
       "['club.csv',\n",
       " 'club_stats.csv',\n",
       " 'manager.csv',\n",
       " 'manager_club.csv',\n",
       " 'match.csv',\n",
       " 'player.csv',\n",
       " 'player_club.csv',\n",
       " 'player_performance.csv',\n",
       " 'player_stats.csv',\n",
       " 'stadium.csv']"
      ]
     },
     "execution_count": 3,
     "metadata": {},
     "output_type": "execute_result"
    }
   ],
   "source": [
    "files_names = [file_name for file_name in files_names if file_name.endswith('.csv')]\n",
    "files_names"
   ]
  },
  {
   "cell_type": "code",
   "execution_count": 4,
   "metadata": {},
   "outputs": [
    {
     "ename": "UnicodeDecodeError",
     "evalue": "'utf-8' codec can't decode byte 0xe9 in position 422: invalid continuation byte",
     "output_type": "error",
     "traceback": [
      "\u001b[0;31m---------------------------------------------------------------------------\u001b[0m",
      "\u001b[0;31mUnicodeDecodeError\u001b[0m                        Traceback (most recent call last)",
      "Cell \u001b[0;32mIn[4], line 6\u001b[0m\n\u001b[1;32m      4\u001b[0m df_manager_club \u001b[39m=\u001b[39m pd\u001b[39m.\u001b[39mread_csv(\u001b[39m'\u001b[39m\u001b[39m../dataset/raw/manager_club.csv\u001b[39m\u001b[39m'\u001b[39m)\n\u001b[1;32m      5\u001b[0m df_match \u001b[39m=\u001b[39m pd\u001b[39m.\u001b[39mread_csv(\u001b[39m'\u001b[39m\u001b[39m../dataset/raw/match.csv\u001b[39m\u001b[39m'\u001b[39m)\n\u001b[0;32m----> 6\u001b[0m df_player \u001b[39m=\u001b[39m pd\u001b[39m.\u001b[39;49mread_csv(\u001b[39m'\u001b[39;49m\u001b[39m../dataset/raw/player.csv\u001b[39;49m\u001b[39m'\u001b[39;49m)\n\u001b[1;32m      7\u001b[0m df_player_club \u001b[39m=\u001b[39m pd\u001b[39m.\u001b[39mread_csv(\u001b[39m'\u001b[39m\u001b[39m../dataset/raw/player_club.csv\u001b[39m\u001b[39m'\u001b[39m)\n\u001b[1;32m      8\u001b[0m df_player_performance \u001b[39m=\u001b[39m pd\u001b[39m.\u001b[39mread_csv(\u001b[39m'\u001b[39m\u001b[39m../dataset/raw/player_performance.csv\u001b[39m\u001b[39m'\u001b[39m)\n",
      "File \u001b[0;32m~/.local/lib/python3.10/site-packages/pandas/util/_decorators.py:211\u001b[0m, in \u001b[0;36mdeprecate_kwarg.<locals>._deprecate_kwarg.<locals>.wrapper\u001b[0;34m(*args, **kwargs)\u001b[0m\n\u001b[1;32m    209\u001b[0m     \u001b[39melse\u001b[39;00m:\n\u001b[1;32m    210\u001b[0m         kwargs[new_arg_name] \u001b[39m=\u001b[39m new_arg_value\n\u001b[0;32m--> 211\u001b[0m \u001b[39mreturn\u001b[39;00m func(\u001b[39m*\u001b[39;49margs, \u001b[39m*\u001b[39;49m\u001b[39m*\u001b[39;49mkwargs)\n",
      "File \u001b[0;32m~/.local/lib/python3.10/site-packages/pandas/util/_decorators.py:331\u001b[0m, in \u001b[0;36mdeprecate_nonkeyword_arguments.<locals>.decorate.<locals>.wrapper\u001b[0;34m(*args, **kwargs)\u001b[0m\n\u001b[1;32m    325\u001b[0m \u001b[39mif\u001b[39;00m \u001b[39mlen\u001b[39m(args) \u001b[39m>\u001b[39m num_allow_args:\n\u001b[1;32m    326\u001b[0m     warnings\u001b[39m.\u001b[39mwarn(\n\u001b[1;32m    327\u001b[0m         msg\u001b[39m.\u001b[39mformat(arguments\u001b[39m=\u001b[39m_format_argument_list(allow_args)),\n\u001b[1;32m    328\u001b[0m         \u001b[39mFutureWarning\u001b[39;00m,\n\u001b[1;32m    329\u001b[0m         stacklevel\u001b[39m=\u001b[39mfind_stack_level(),\n\u001b[1;32m    330\u001b[0m     )\n\u001b[0;32m--> 331\u001b[0m \u001b[39mreturn\u001b[39;00m func(\u001b[39m*\u001b[39;49margs, \u001b[39m*\u001b[39;49m\u001b[39m*\u001b[39;49mkwargs)\n",
      "File \u001b[0;32m~/.local/lib/python3.10/site-packages/pandas/io/parsers/readers.py:950\u001b[0m, in \u001b[0;36mread_csv\u001b[0;34m(filepath_or_buffer, sep, delimiter, header, names, index_col, usecols, squeeze, prefix, mangle_dupe_cols, dtype, engine, converters, true_values, false_values, skipinitialspace, skiprows, skipfooter, nrows, na_values, keep_default_na, na_filter, verbose, skip_blank_lines, parse_dates, infer_datetime_format, keep_date_col, date_parser, dayfirst, cache_dates, iterator, chunksize, compression, thousands, decimal, lineterminator, quotechar, quoting, doublequote, escapechar, comment, encoding, encoding_errors, dialect, error_bad_lines, warn_bad_lines, on_bad_lines, delim_whitespace, low_memory, memory_map, float_precision, storage_options)\u001b[0m\n\u001b[1;32m    935\u001b[0m kwds_defaults \u001b[39m=\u001b[39m _refine_defaults_read(\n\u001b[1;32m    936\u001b[0m     dialect,\n\u001b[1;32m    937\u001b[0m     delimiter,\n\u001b[0;32m   (...)\u001b[0m\n\u001b[1;32m    946\u001b[0m     defaults\u001b[39m=\u001b[39m{\u001b[39m\"\u001b[39m\u001b[39mdelimiter\u001b[39m\u001b[39m\"\u001b[39m: \u001b[39m\"\u001b[39m\u001b[39m,\u001b[39m\u001b[39m\"\u001b[39m},\n\u001b[1;32m    947\u001b[0m )\n\u001b[1;32m    948\u001b[0m kwds\u001b[39m.\u001b[39mupdate(kwds_defaults)\n\u001b[0;32m--> 950\u001b[0m \u001b[39mreturn\u001b[39;00m _read(filepath_or_buffer, kwds)\n",
      "File \u001b[0;32m~/.local/lib/python3.10/site-packages/pandas/io/parsers/readers.py:605\u001b[0m, in \u001b[0;36m_read\u001b[0;34m(filepath_or_buffer, kwds)\u001b[0m\n\u001b[1;32m    602\u001b[0m _validate_names(kwds\u001b[39m.\u001b[39mget(\u001b[39m\"\u001b[39m\u001b[39mnames\u001b[39m\u001b[39m\"\u001b[39m, \u001b[39mNone\u001b[39;00m))\n\u001b[1;32m    604\u001b[0m \u001b[39m# Create the parser.\u001b[39;00m\n\u001b[0;32m--> 605\u001b[0m parser \u001b[39m=\u001b[39m TextFileReader(filepath_or_buffer, \u001b[39m*\u001b[39;49m\u001b[39m*\u001b[39;49mkwds)\n\u001b[1;32m    607\u001b[0m \u001b[39mif\u001b[39;00m chunksize \u001b[39mor\u001b[39;00m iterator:\n\u001b[1;32m    608\u001b[0m     \u001b[39mreturn\u001b[39;00m parser\n",
      "File \u001b[0;32m~/.local/lib/python3.10/site-packages/pandas/io/parsers/readers.py:1442\u001b[0m, in \u001b[0;36mTextFileReader.__init__\u001b[0;34m(self, f, engine, **kwds)\u001b[0m\n\u001b[1;32m   1439\u001b[0m     \u001b[39mself\u001b[39m\u001b[39m.\u001b[39moptions[\u001b[39m\"\u001b[39m\u001b[39mhas_index_names\u001b[39m\u001b[39m\"\u001b[39m] \u001b[39m=\u001b[39m kwds[\u001b[39m\"\u001b[39m\u001b[39mhas_index_names\u001b[39m\u001b[39m\"\u001b[39m]\n\u001b[1;32m   1441\u001b[0m \u001b[39mself\u001b[39m\u001b[39m.\u001b[39mhandles: IOHandles \u001b[39m|\u001b[39m \u001b[39mNone\u001b[39;00m \u001b[39m=\u001b[39m \u001b[39mNone\u001b[39;00m\n\u001b[0;32m-> 1442\u001b[0m \u001b[39mself\u001b[39m\u001b[39m.\u001b[39m_engine \u001b[39m=\u001b[39m \u001b[39mself\u001b[39;49m\u001b[39m.\u001b[39;49m_make_engine(f, \u001b[39mself\u001b[39;49m\u001b[39m.\u001b[39;49mengine)\n",
      "File \u001b[0;32m~/.local/lib/python3.10/site-packages/pandas/io/parsers/readers.py:1753\u001b[0m, in \u001b[0;36mTextFileReader._make_engine\u001b[0;34m(self, f, engine)\u001b[0m\n\u001b[1;32m   1750\u001b[0m     \u001b[39mraise\u001b[39;00m \u001b[39mValueError\u001b[39;00m(msg)\n\u001b[1;32m   1752\u001b[0m \u001b[39mtry\u001b[39;00m:\n\u001b[0;32m-> 1753\u001b[0m     \u001b[39mreturn\u001b[39;00m mapping[engine](f, \u001b[39m*\u001b[39;49m\u001b[39m*\u001b[39;49m\u001b[39mself\u001b[39;49m\u001b[39m.\u001b[39;49moptions)\n\u001b[1;32m   1754\u001b[0m \u001b[39mexcept\u001b[39;00m \u001b[39mException\u001b[39;00m:\n\u001b[1;32m   1755\u001b[0m     \u001b[39mif\u001b[39;00m \u001b[39mself\u001b[39m\u001b[39m.\u001b[39mhandles \u001b[39mis\u001b[39;00m \u001b[39mnot\u001b[39;00m \u001b[39mNone\u001b[39;00m:\n",
      "File \u001b[0;32m~/.local/lib/python3.10/site-packages/pandas/io/parsers/c_parser_wrapper.py:79\u001b[0m, in \u001b[0;36mCParserWrapper.__init__\u001b[0;34m(self, src, **kwds)\u001b[0m\n\u001b[1;32m     76\u001b[0m     kwds\u001b[39m.\u001b[39mpop(key, \u001b[39mNone\u001b[39;00m)\n\u001b[1;32m     78\u001b[0m kwds[\u001b[39m\"\u001b[39m\u001b[39mdtype\u001b[39m\u001b[39m\"\u001b[39m] \u001b[39m=\u001b[39m ensure_dtype_objs(kwds\u001b[39m.\u001b[39mget(\u001b[39m\"\u001b[39m\u001b[39mdtype\u001b[39m\u001b[39m\"\u001b[39m, \u001b[39mNone\u001b[39;00m))\n\u001b[0;32m---> 79\u001b[0m \u001b[39mself\u001b[39m\u001b[39m.\u001b[39m_reader \u001b[39m=\u001b[39m parsers\u001b[39m.\u001b[39;49mTextReader(src, \u001b[39m*\u001b[39;49m\u001b[39m*\u001b[39;49mkwds)\n\u001b[1;32m     81\u001b[0m \u001b[39mself\u001b[39m\u001b[39m.\u001b[39munnamed_cols \u001b[39m=\u001b[39m \u001b[39mself\u001b[39m\u001b[39m.\u001b[39m_reader\u001b[39m.\u001b[39munnamed_cols\n\u001b[1;32m     83\u001b[0m \u001b[39m# error: Cannot determine type of 'names'\u001b[39;00m\n",
      "File \u001b[0;32m~/.local/lib/python3.10/site-packages/pandas/_libs/parsers.pyx:547\u001b[0m, in \u001b[0;36mpandas._libs.parsers.TextReader.__cinit__\u001b[0;34m()\u001b[0m\n",
      "File \u001b[0;32m~/.local/lib/python3.10/site-packages/pandas/_libs/parsers.pyx:636\u001b[0m, in \u001b[0;36mpandas._libs.parsers.TextReader._get_header\u001b[0;34m()\u001b[0m\n",
      "File \u001b[0;32m~/.local/lib/python3.10/site-packages/pandas/_libs/parsers.pyx:852\u001b[0m, in \u001b[0;36mpandas._libs.parsers.TextReader._tokenize_rows\u001b[0;34m()\u001b[0m\n",
      "File \u001b[0;32m~/.local/lib/python3.10/site-packages/pandas/_libs/parsers.pyx:1965\u001b[0m, in \u001b[0;36mpandas._libs.parsers.raise_parser_error\u001b[0;34m()\u001b[0m\n",
      "\u001b[0;31mUnicodeDecodeError\u001b[0m: 'utf-8' codec can't decode byte 0xe9 in position 422: invalid continuation byte"
     ]
    }
   ],
   "source": [
    "df_club = pd.read_csv('../../dataset/raw/club.csv')\n",
    "df_club_stats = pd.read_csv('../../dataset/raw/club_stats.csv')\n",
    "df_manager = pd.read_csv('../../dataset/raw/manager.csv')\n",
    "df_manager_club = pd.read_csv('../../dataset/raw/manager_club.csv')\n",
    "df_match = pd.read_csv('../../dataset/raw/match.csv')\n",
    "df_player = pd.read_csv('../../dataset/raw/player.csv')\n",
    "df_player_club = pd.read_csv('../../dataset/raw/player_club.csv')\n",
    "df_player_performance = pd.read_csv('../../dataset/raw/player_performance.csv')\n",
    "df_player_stats = pd.read_csv('../../dataset/raw/player_stats.csv')\n",
    "df_stadium = pd.read_csv('../../dataset/raw/stadium.csv')"
   ]
  },
  {
   "cell_type": "code",
   "execution_count": 5,
   "metadata": {},
   "outputs": [
    {
     "name": "stdout",
     "output_type": "stream",
     "text": [
      "ISO-8859-1\n"
     ]
    }
   ],
   "source": [
    "import chardet\n",
    "\n",
    "with open('../../dataset/raw/player.csv', 'rb') as f:\n",
    "    result = chardet.detect(f.read())\n",
    "    print(result['encoding'])"
   ]
  },
  {
   "cell_type": "code",
   "execution_count": 6,
   "metadata": {},
   "outputs": [],
   "source": [
    "df_club = pd.read_csv('../../dataset/raw/club.csv')\n",
    "df_club_stats = pd.read_csv('../../dataset/raw/club_stats.csv')\n",
    "df_manager = pd.read_csv('../../dataset/raw/manager.csv')\n",
    "df_manager_club = pd.read_csv('../../dataset/raw/manager_club.csv')\n",
    "df_match = pd.read_csv('../../dataset/raw/match.csv')\n",
    "df_player = pd.read_csv('../../dataset/raw/player.csv', encoding='ISO-8859-1', header=1)\n",
    "df_player_club = pd.read_csv('../../dataset/raw/player_club.csv')\n",
    "df_player_performance = pd.read_csv('../../dataset/raw/player_performance.csv')\n",
    "df_player_stats = pd.read_csv('../../dataset/raw/player_stats.csv')\n",
    "df_stadium = pd.read_csv('../../dataset/raw/stadium.csv')"
   ]
  },
  {
   "attachments": {},
   "cell_type": "markdown",
   "metadata": {},
   "source": [
    "# Data Cleaning"
   ]
  },
  {
   "attachments": {},
   "cell_type": "markdown",
   "metadata": {},
   "source": [
    "##### Club"
   ]
  },
  {
   "cell_type": "code",
   "execution_count": 7,
   "metadata": {},
   "outputs": [
    {
     "data": {
      "text/plain": [
       "(50, 4)"
      ]
     },
     "execution_count": 7,
     "metadata": {},
     "output_type": "execute_result"
    }
   ],
   "source": [
    "df_club.shape"
   ]
  },
  {
   "cell_type": "code",
   "execution_count": 8,
   "metadata": {},
   "outputs": [
    {
     "data": {
      "text/html": [
       "<div>\n",
       "<style scoped>\n",
       "    .dataframe tbody tr th:only-of-type {\n",
       "        vertical-align: middle;\n",
       "    }\n",
       "\n",
       "    .dataframe tbody tr th {\n",
       "        vertical-align: top;\n",
       "    }\n",
       "\n",
       "    .dataframe thead th {\n",
       "        text-align: right;\n",
       "    }\n",
       "</style>\n",
       "<table border=\"1\" class=\"dataframe\">\n",
       "  <thead>\n",
       "    <tr style=\"text-align: right;\">\n",
       "      <th></th>\n",
       "      <th>club_id</th>\n",
       "      <th>stadium_id</th>\n",
       "      <th>club_name</th>\n",
       "      <th>website</th>\n",
       "    </tr>\n",
       "  </thead>\n",
       "  <tbody>\n",
       "    <tr>\n",
       "      <th>0</th>\n",
       "      <td>120</td>\n",
       "      <td>133</td>\n",
       "      <td>Arsenal</td>\n",
       "      <td>www.arsenal.com</td>\n",
       "    </tr>\n",
       "    <tr>\n",
       "      <th>1</th>\n",
       "      <td>121</td>\n",
       "      <td>134</td>\n",
       "      <td>Aston Villa</td>\n",
       "      <td>www.avfc.co.uk</td>\n",
       "    </tr>\n",
       "    <tr>\n",
       "      <th>2</th>\n",
       "      <td>122</td>\n",
       "      <td>135</td>\n",
       "      <td>Barnsley</td>\n",
       "      <td>Null</td>\n",
       "    </tr>\n",
       "    <tr>\n",
       "      <th>3</th>\n",
       "      <td>123</td>\n",
       "      <td>136</td>\n",
       "      <td>Birmingham City</td>\n",
       "      <td>Null</td>\n",
       "    </tr>\n",
       "    <tr>\n",
       "      <th>4</th>\n",
       "      <td>124</td>\n",
       "      <td>137</td>\n",
       "      <td>Blackburn Rovers</td>\n",
       "      <td>Null</td>\n",
       "    </tr>\n",
       "  </tbody>\n",
       "</table>\n",
       "</div>"
      ],
      "text/plain": [
       "   club_id  stadium_id         club_name          website\n",
       "0      120         133           Arsenal  www.arsenal.com\n",
       "1      121         134       Aston Villa   www.avfc.co.uk\n",
       "2      122         135          Barnsley             Null\n",
       "3      123         136   Birmingham City             Null\n",
       "4      124         137  Blackburn Rovers             Null"
      ]
     },
     "execution_count": 8,
     "metadata": {},
     "output_type": "execute_result"
    }
   ],
   "source": [
    "df_club.head()"
   ]
  },
  {
   "cell_type": "code",
   "execution_count": 9,
   "metadata": {},
   "outputs": [
    {
     "data": {
      "text/plain": [
       "0"
      ]
     },
     "execution_count": 9,
     "metadata": {},
     "output_type": "execute_result"
    }
   ],
   "source": [
    "df_club.duplicated().sum()"
   ]
  },
  {
   "cell_type": "code",
   "execution_count": 10,
   "metadata": {},
   "outputs": [
    {
     "data": {
      "text/plain": [
       "club_id        0.0\n",
       "stadium_id     0.0\n",
       "club_name      0.0\n",
       "website       38.0\n",
       "dtype: float64"
      ]
     },
     "execution_count": 10,
     "metadata": {},
     "output_type": "execute_result"
    }
   ],
   "source": [
    "df_club = df_club.replace({'Null': np.nan,\n",
    "                           '\\\\N': np.nan})\n",
    "df_club.isna().sum() / len(df_club) * 100"
   ]
  },
  {
   "attachments": {},
   "cell_type": "markdown",
   "metadata": {},
   "source": [
    "* As null values represent almost 38% of `website` column data, we'll drop it."
   ]
  },
  {
   "cell_type": "code",
   "execution_count": 11,
   "metadata": {},
   "outputs": [
    {
     "data": {
      "text/html": [
       "<div>\n",
       "<style scoped>\n",
       "    .dataframe tbody tr th:only-of-type {\n",
       "        vertical-align: middle;\n",
       "    }\n",
       "\n",
       "    .dataframe tbody tr th {\n",
       "        vertical-align: top;\n",
       "    }\n",
       "\n",
       "    .dataframe thead th {\n",
       "        text-align: right;\n",
       "    }\n",
       "</style>\n",
       "<table border=\"1\" class=\"dataframe\">\n",
       "  <thead>\n",
       "    <tr style=\"text-align: right;\">\n",
       "      <th></th>\n",
       "      <th>club_id</th>\n",
       "      <th>stadium_id</th>\n",
       "      <th>club_name</th>\n",
       "    </tr>\n",
       "  </thead>\n",
       "  <tbody>\n",
       "    <tr>\n",
       "      <th>0</th>\n",
       "      <td>120</td>\n",
       "      <td>133</td>\n",
       "      <td>Arsenal</td>\n",
       "    </tr>\n",
       "    <tr>\n",
       "      <th>1</th>\n",
       "      <td>121</td>\n",
       "      <td>134</td>\n",
       "      <td>Aston Villa</td>\n",
       "    </tr>\n",
       "    <tr>\n",
       "      <th>2</th>\n",
       "      <td>122</td>\n",
       "      <td>135</td>\n",
       "      <td>Barnsley</td>\n",
       "    </tr>\n",
       "    <tr>\n",
       "      <th>3</th>\n",
       "      <td>123</td>\n",
       "      <td>136</td>\n",
       "      <td>Birmingham City</td>\n",
       "    </tr>\n",
       "    <tr>\n",
       "      <th>4</th>\n",
       "      <td>124</td>\n",
       "      <td>137</td>\n",
       "      <td>Blackburn Rovers</td>\n",
       "    </tr>\n",
       "  </tbody>\n",
       "</table>\n",
       "</div>"
      ],
      "text/plain": [
       "   club_id  stadium_id         club_name\n",
       "0      120         133           Arsenal\n",
       "1      121         134       Aston Villa\n",
       "2      122         135          Barnsley\n",
       "3      123         136   Birmingham City\n",
       "4      124         137  Blackburn Rovers"
      ]
     },
     "execution_count": 11,
     "metadata": {},
     "output_type": "execute_result"
    }
   ],
   "source": [
    "df_club = df_club.drop(columns='website')\n",
    "df_club.head()"
   ]
  },
  {
   "cell_type": "code",
   "execution_count": 12,
   "metadata": {},
   "outputs": [
    {
     "data": {
      "text/plain": [
       "0"
      ]
     },
     "execution_count": 12,
     "metadata": {},
     "output_type": "execute_result"
    }
   ],
   "source": [
    "df_club.duplicated().sum()"
   ]
  },
  {
   "attachments": {},
   "cell_type": "markdown",
   "metadata": {},
   "source": [
    "##### club stats"
   ]
  },
  {
   "cell_type": "code",
   "execution_count": 13,
   "metadata": {},
   "outputs": [
    {
     "data": {
      "text/plain": [
       "(23018, 15)"
      ]
     },
     "execution_count": 13,
     "metadata": {},
     "output_type": "execute_result"
    }
   ],
   "source": [
    "df_club_stats.shape"
   ]
  },
  {
   "cell_type": "code",
   "execution_count": 14,
   "metadata": {},
   "outputs": [
    {
     "data": {
      "text/html": [
       "<div>\n",
       "<style scoped>\n",
       "    .dataframe tbody tr th:only-of-type {\n",
       "        vertical-align: middle;\n",
       "    }\n",
       "\n",
       "    .dataframe tbody tr th {\n",
       "        vertical-align: top;\n",
       "    }\n",
       "\n",
       "    .dataframe thead th {\n",
       "        text-align: right;\n",
       "    }\n",
       "</style>\n",
       "<table border=\"1\" class=\"dataframe\">\n",
       "  <thead>\n",
       "    <tr style=\"text-align: right;\">\n",
       "      <th></th>\n",
       "      <th>match_id</th>\n",
       "      <th>club_id</th>\n",
       "      <th>possession</th>\n",
       "      <th>shots</th>\n",
       "      <th>shots_on_target</th>\n",
       "      <th>touches</th>\n",
       "      <th>passes</th>\n",
       "      <th>tackles</th>\n",
       "      <th>clearances</th>\n",
       "      <th>corners</th>\n",
       "      <th>offsides</th>\n",
       "      <th>offsides.1</th>\n",
       "      <th>fouls_conceded</th>\n",
       "      <th>yellow_cards</th>\n",
       "      <th>red_cards</th>\n",
       "    </tr>\n",
       "  </thead>\n",
       "  <tbody>\n",
       "    <tr>\n",
       "      <th>0</th>\n",
       "      <td>5943</td>\n",
       "      <td>153</td>\n",
       "      <td>36.5</td>\n",
       "      <td>12</td>\n",
       "      <td>4</td>\n",
       "      <td>378</td>\n",
       "      <td>230</td>\n",
       "      <td>22</td>\n",
       "      <td>21</td>\n",
       "      <td>2</td>\n",
       "      <td>6</td>\n",
       "      <td>6</td>\n",
       "      <td>19</td>\n",
       "      <td>0</td>\n",
       "      <td>0</td>\n",
       "    </tr>\n",
       "    <tr>\n",
       "      <th>1</th>\n",
       "      <td>5943</td>\n",
       "      <td>120</td>\n",
       "      <td>63.5</td>\n",
       "      <td>13</td>\n",
       "      <td>5</td>\n",
       "      <td>610</td>\n",
       "      <td>413</td>\n",
       "      <td>24</td>\n",
       "      <td>28</td>\n",
       "      <td>6</td>\n",
       "      <td>7</td>\n",
       "      <td>7</td>\n",
       "      <td>16</td>\n",
       "      <td>0</td>\n",
       "      <td>0</td>\n",
       "    </tr>\n",
       "    <tr>\n",
       "      <th>2</th>\n",
       "      <td>5933</td>\n",
       "      <td>120</td>\n",
       "      <td>52.8</td>\n",
       "      <td>14</td>\n",
       "      <td>3</td>\n",
       "      <td>636</td>\n",
       "      <td>453</td>\n",
       "      <td>33</td>\n",
       "      <td>29</td>\n",
       "      <td>3</td>\n",
       "      <td>3</td>\n",
       "      <td>3</td>\n",
       "      <td>19</td>\n",
       "      <td>1</td>\n",
       "      <td>0</td>\n",
       "    </tr>\n",
       "    <tr>\n",
       "      <th>3</th>\n",
       "      <td>5933</td>\n",
       "      <td>134</td>\n",
       "      <td>47.2</td>\n",
       "      <td>10</td>\n",
       "      <td>3</td>\n",
       "      <td>578</td>\n",
       "      <td>405</td>\n",
       "      <td>23</td>\n",
       "      <td>16</td>\n",
       "      <td>7</td>\n",
       "      <td>10</td>\n",
       "      <td>10</td>\n",
       "      <td>13</td>\n",
       "      <td>2</td>\n",
       "      <td>1</td>\n",
       "    </tr>\n",
       "    <tr>\n",
       "      <th>4</th>\n",
       "      <td>5923</td>\n",
       "      <td>120</td>\n",
       "      <td>57.5</td>\n",
       "      <td>15</td>\n",
       "      <td>8</td>\n",
       "      <td>674</td>\n",
       "      <td>477</td>\n",
       "      <td>26</td>\n",
       "      <td>41</td>\n",
       "      <td>7</td>\n",
       "      <td>5</td>\n",
       "      <td>5</td>\n",
       "      <td>6</td>\n",
       "      <td>2</td>\n",
       "      <td>0</td>\n",
       "    </tr>\n",
       "  </tbody>\n",
       "</table>\n",
       "</div>"
      ],
      "text/plain": [
       "   match_id  club_id possession shots shots_on_target touches passes tackles  \\\n",
       "0      5943      153       36.5    12               4     378    230      22   \n",
       "1      5943      120       63.5    13               5     610    413      24   \n",
       "2      5933      120       52.8    14               3     636    453      33   \n",
       "3      5933      134       47.2    10               3     578    405      23   \n",
       "4      5923      120       57.5    15               8     674    477      26   \n",
       "\n",
       "  clearances corners offsides offsides.1 fouls_conceded yellow_cards red_cards  \n",
       "0         21       2        6          6             19            0         0  \n",
       "1         28       6        7          7             16            0         0  \n",
       "2         29       3        3          3             19            1         0  \n",
       "3         16       7       10         10             13            2         1  \n",
       "4         41       7        5          5              6            2         0  "
      ]
     },
     "execution_count": 14,
     "metadata": {},
     "output_type": "execute_result"
    }
   ],
   "source": [
    "df_club_stats.head()"
   ]
  },
  {
   "cell_type": "code",
   "execution_count": 15,
   "metadata": {},
   "outputs": [
    {
     "name": "stdout",
     "output_type": "stream",
     "text": [
      "<class 'pandas.core.frame.DataFrame'>\n",
      "RangeIndex: 23018 entries, 0 to 23017\n",
      "Data columns (total 15 columns):\n",
      " #   Column           Non-Null Count  Dtype \n",
      "---  ------           --------------  ----- \n",
      " 0   match_id         23018 non-null  int64 \n",
      " 1   club_id          23018 non-null  int64 \n",
      " 2   possession       23018 non-null  object\n",
      " 3   shots            23018 non-null  object\n",
      " 4   shots_on_target  23018 non-null  object\n",
      " 5   touches          23018 non-null  object\n",
      " 6   passes           23018 non-null  object\n",
      " 7   tackles          23018 non-null  object\n",
      " 8   clearances       23018 non-null  object\n",
      " 9   corners          23018 non-null  object\n",
      " 10  offsides         23018 non-null  object\n",
      " 11  offsides.1       23018 non-null  object\n",
      " 12  fouls_conceded   23018 non-null  object\n",
      " 13  yellow_cards     23018 non-null  object\n",
      " 14  red_cards        23018 non-null  object\n",
      "dtypes: int64(2), object(13)\n",
      "memory usage: 2.6+ MB\n"
     ]
    }
   ],
   "source": [
    "df_club_stats.info()"
   ]
  },
  {
   "attachments": {},
   "cell_type": "markdown",
   "metadata": {},
   "source": [
    "* Check Duplicates"
   ]
  },
  {
   "cell_type": "code",
   "execution_count": 16,
   "metadata": {},
   "outputs": [
    {
     "data": {
      "text/plain": [
       "0"
      ]
     },
     "execution_count": 16,
     "metadata": {},
     "output_type": "execute_result"
    }
   ],
   "source": [
    "df_club_stats.duplicated().sum()"
   ]
  },
  {
   "attachments": {},
   "cell_type": "markdown",
   "metadata": {},
   "source": [
    "* Check Nulls"
   ]
  },
  {
   "cell_type": "code",
   "execution_count": 17,
   "metadata": {},
   "outputs": [
    {
     "data": {
      "text/plain": [
       "match_id               0\n",
       "club_id                0\n",
       "possession         11132\n",
       "shots              11132\n",
       "shots_on_target    11132\n",
       "touches            11132\n",
       "passes             11132\n",
       "tackles            11132\n",
       "clearances         11132\n",
       "corners            11132\n",
       "offsides           11132\n",
       "offsides.1         11132\n",
       "fouls_conceded     11132\n",
       "yellow_cards       11132\n",
       "red_cards          11132\n",
       "dtype: int64"
      ]
     },
     "execution_count": 17,
     "metadata": {},
     "output_type": "execute_result"
    }
   ],
   "source": [
    "df_club_stats = df_club_stats.replace({'Null': np.nan,\n",
    "                                       '\\\\N': np.nan})\n",
    "df_club_stats.isna().sum()"
   ]
  },
  {
   "attachments": {},
   "cell_type": "markdown",
   "metadata": {},
   "source": [
    "* Drop Nulls"
   ]
  },
  {
   "cell_type": "code",
   "execution_count": 18,
   "metadata": {},
   "outputs": [],
   "source": [
    "df_club_stats = df_club_stats.dropna().reset_index(drop=True)"
   ]
  },
  {
   "cell_type": "code",
   "execution_count": 19,
   "metadata": {},
   "outputs": [
    {
     "data": {
      "text/plain": [
       "(11886, 15)"
      ]
     },
     "execution_count": 19,
     "metadata": {},
     "output_type": "execute_result"
    }
   ],
   "source": [
    "df_club_stats.shape"
   ]
  },
  {
   "attachments": {},
   "cell_type": "markdown",
   "metadata": {},
   "source": [
    "* Validate dtypes"
   ]
  },
  {
   "cell_type": "code",
   "execution_count": 20,
   "metadata": {},
   "outputs": [
    {
     "name": "stdout",
     "output_type": "stream",
     "text": [
      "<class 'pandas.core.frame.DataFrame'>\n",
      "RangeIndex: 11886 entries, 0 to 11885\n",
      "Data columns (total 15 columns):\n",
      " #   Column           Non-Null Count  Dtype \n",
      "---  ------           --------------  ----- \n",
      " 0   match_id         11886 non-null  int64 \n",
      " 1   club_id          11886 non-null  int64 \n",
      " 2   possession       11886 non-null  object\n",
      " 3   shots            11886 non-null  object\n",
      " 4   shots_on_target  11886 non-null  object\n",
      " 5   touches          11886 non-null  object\n",
      " 6   passes           11886 non-null  object\n",
      " 7   tackles          11886 non-null  object\n",
      " 8   clearances       11886 non-null  object\n",
      " 9   corners          11886 non-null  object\n",
      " 10  offsides         11886 non-null  object\n",
      " 11  offsides.1       11886 non-null  object\n",
      " 12  fouls_conceded   11886 non-null  object\n",
      " 13  yellow_cards     11886 non-null  object\n",
      " 14  red_cards        11886 non-null  object\n",
      "dtypes: int64(2), object(13)\n",
      "memory usage: 1.4+ MB\n"
     ]
    }
   ],
   "source": [
    "df_club_stats.info()"
   ]
  },
  {
   "cell_type": "code",
   "execution_count": 21,
   "metadata": {},
   "outputs": [
    {
     "name": "stdout",
     "output_type": "stream",
     "text": [
      "<class 'pandas.core.frame.DataFrame'>\n",
      "RangeIndex: 11886 entries, 0 to 11885\n",
      "Data columns (total 15 columns):\n",
      " #   Column           Non-Null Count  Dtype  \n",
      "---  ------           --------------  -----  \n",
      " 0   match_id         11886 non-null  int64  \n",
      " 1   club_id          11886 non-null  int64  \n",
      " 2   possession       11886 non-null  float64\n",
      " 3   shots            11886 non-null  int64  \n",
      " 4   shots_on_target  11886 non-null  int64  \n",
      " 5   touches          11886 non-null  int64  \n",
      " 6   passes           11886 non-null  int64  \n",
      " 7   tackles          11886 non-null  int64  \n",
      " 8   clearances       11886 non-null  int64  \n",
      " 9   corners          11886 non-null  int64  \n",
      " 10  offsides         11886 non-null  int64  \n",
      " 11  offsides.1       11886 non-null  int64  \n",
      " 12  fouls_conceded   11886 non-null  int64  \n",
      " 13  yellow_cards     11886 non-null  int64  \n",
      " 14  red_cards        11886 non-null  int64  \n",
      "dtypes: float64(1), int64(14)\n",
      "memory usage: 1.4 MB\n"
     ]
    }
   ],
   "source": [
    "df_club_stats['possession'] = df_club_stats['possession'].astype('float64')\n",
    "df_club_stats[df_club_stats.columns[3:]] = df_club_stats[df_club_stats.columns[3:]].astype('int64')\n",
    "df_club_stats.info()"
   ]
  },
  {
   "attachments": {},
   "cell_type": "markdown",
   "metadata": {},
   "source": [
    "* Check duplicate column"
   ]
  },
  {
   "cell_type": "code",
   "execution_count": 22,
   "metadata": {},
   "outputs": [
    {
     "data": {
      "text/plain": [
       "11886"
      ]
     },
     "execution_count": 22,
     "metadata": {},
     "output_type": "execute_result"
    }
   ],
   "source": [
    "(df_club_stats['offsides'] == df_club_stats['offsides.1']).sum()"
   ]
  },
  {
   "attachments": {},
   "cell_type": "markdown",
   "metadata": {},
   "source": [
    "* Remove duplicate column"
   ]
  },
  {
   "cell_type": "code",
   "execution_count": 23,
   "metadata": {},
   "outputs": [],
   "source": [
    "df_club_stats = df_club_stats.drop(columns='offsides.1')"
   ]
  },
  {
   "attachments": {},
   "cell_type": "markdown",
   "metadata": {},
   "source": [
    "##### Manager"
   ]
  },
  {
   "cell_type": "code",
   "execution_count": 24,
   "metadata": {},
   "outputs": [
    {
     "data": {
      "text/plain": [
       "(246, 8)"
      ]
     },
     "execution_count": 24,
     "metadata": {},
     "output_type": "execute_result"
    }
   ],
   "source": [
    "df_manager.shape"
   ]
  },
  {
   "cell_type": "code",
   "execution_count": 25,
   "metadata": {},
   "outputs": [
    {
     "data": {
      "text/html": [
       "<div>\n",
       "<style scoped>\n",
       "    .dataframe tbody tr th:only-of-type {\n",
       "        vertical-align: middle;\n",
       "    }\n",
       "\n",
       "    .dataframe tbody tr th {\n",
       "        vertical-align: top;\n",
       "    }\n",
       "\n",
       "    .dataframe thead th {\n",
       "        text-align: right;\n",
       "    }\n",
       "</style>\n",
       "<table border=\"1\" class=\"dataframe\">\n",
       "  <thead>\n",
       "    <tr style=\"text-align: right;\">\n",
       "      <th></th>\n",
       "      <th>manager_id</th>\n",
       "      <th>manager_name</th>\n",
       "      <th>country</th>\n",
       "      <th>active</th>\n",
       "      <th>joined_club</th>\n",
       "      <th>date_of_birth</th>\n",
       "      <th>epl_seasons</th>\n",
       "      <th>epl_debut_match</th>\n",
       "    </tr>\n",
       "  </thead>\n",
       "  <tbody>\n",
       "    <tr>\n",
       "      <th>0</th>\n",
       "      <td>67</td>\n",
       "      <td>Mikel Arteta</td>\n",
       "      <td>Spain</td>\n",
       "      <td>1</td>\n",
       "      <td>2019-12-22</td>\n",
       "      <td>1982-03-26</td>\n",
       "      <td>3</td>\n",
       "      <td>AFC Bournemouth (a),26 December 2019, Drawn 1 - 1</td>\n",
       "    </tr>\n",
       "    <tr>\n",
       "      <th>1</th>\n",
       "      <td>68</td>\n",
       "      <td>Dean Smith</td>\n",
       "      <td>England</td>\n",
       "      <td>1</td>\n",
       "      <td>2018-10-10</td>\n",
       "      <td>1971-03-19</td>\n",
       "      <td>2</td>\n",
       "      <td>Tottenham Hotspur (a),10 August 2019, Lost 1 - 3</td>\n",
       "    </tr>\n",
       "    <tr>\n",
       "      <th>2</th>\n",
       "      <td>69</td>\n",
       "      <td>Graham Potter</td>\n",
       "      <td>England</td>\n",
       "      <td>1</td>\n",
       "      <td>2019-05-20</td>\n",
       "      <td>1975-05-20</td>\n",
       "      <td>2</td>\n",
       "      <td>Watford (a),10 August 2019, Won 3 - 0</td>\n",
       "    </tr>\n",
       "    <tr>\n",
       "      <th>3</th>\n",
       "      <td>70</td>\n",
       "      <td>Sean Dyche</td>\n",
       "      <td>England</td>\n",
       "      <td>1</td>\n",
       "      <td>2012-10-30</td>\n",
       "      <td>1971-06-28</td>\n",
       "      <td>6</td>\n",
       "      <td>Chelsea (h),18 August 2014, Lost 1 - 3</td>\n",
       "    </tr>\n",
       "    <tr>\n",
       "      <th>4</th>\n",
       "      <td>71</td>\n",
       "      <td>Thomas Tuchel</td>\n",
       "      <td>Germany</td>\n",
       "      <td>1</td>\n",
       "      <td>2021-01-26</td>\n",
       "      <td>1973-08-29</td>\n",
       "      <td>1</td>\n",
       "      <td>Wolverhampton Wanderers (h),27 January 2021, D...</td>\n",
       "    </tr>\n",
       "  </tbody>\n",
       "</table>\n",
       "</div>"
      ],
      "text/plain": [
       "   manager_id   manager_name  country  active joined_club date_of_birth  \\\n",
       "0          67   Mikel Arteta    Spain       1  2019-12-22    1982-03-26   \n",
       "1          68     Dean Smith  England       1  2018-10-10    1971-03-19   \n",
       "2          69  Graham Potter  England       1  2019-05-20    1975-05-20   \n",
       "3          70     Sean Dyche  England       1  2012-10-30    1971-06-28   \n",
       "4          71  Thomas Tuchel  Germany       1  2021-01-26    1973-08-29   \n",
       "\n",
       "   epl_seasons                                    epl_debut_match  \n",
       "0            3  AFC Bournemouth (a),26 December 2019, Drawn 1 - 1  \n",
       "1            2   Tottenham Hotspur (a),10 August 2019, Lost 1 - 3  \n",
       "2            2              Watford (a),10 August 2019, Won 3 - 0  \n",
       "3            6             Chelsea (h),18 August 2014, Lost 1 - 3  \n",
       "4            1  Wolverhampton Wanderers (h),27 January 2021, D...  "
      ]
     },
     "execution_count": 25,
     "metadata": {},
     "output_type": "execute_result"
    }
   ],
   "source": [
    "df_manager.head()"
   ]
  },
  {
   "attachments": {},
   "cell_type": "markdown",
   "metadata": {},
   "source": [
    "* Check Duplicates"
   ]
  },
  {
   "cell_type": "code",
   "execution_count": 26,
   "metadata": {},
   "outputs": [
    {
     "data": {
      "text/plain": [
       "0"
      ]
     },
     "execution_count": 26,
     "metadata": {},
     "output_type": "execute_result"
    }
   ],
   "source": [
    "df_manager.duplicated().sum()"
   ]
  },
  {
   "attachments": {},
   "cell_type": "markdown",
   "metadata": {},
   "source": [
    "* Check Nulls"
   ]
  },
  {
   "cell_type": "code",
   "execution_count": 27,
   "metadata": {},
   "outputs": [
    {
     "data": {
      "text/plain": [
       "manager_id         0\n",
       "manager_name       0\n",
       "country            0\n",
       "active             0\n",
       "joined_club        0\n",
       "date_of_birth      0\n",
       "epl_seasons        0\n",
       "epl_debut_match    0\n",
       "dtype: int64"
      ]
     },
     "execution_count": 27,
     "metadata": {},
     "output_type": "execute_result"
    }
   ],
   "source": [
    "df_manager = df_manager.replace({'Null': np.nan,\n",
    "                                 '\\\\N': np.nan})\n",
    "df_manager.isna().sum()"
   ]
  },
  {
   "attachments": {},
   "cell_type": "markdown",
   "metadata": {},
   "source": [
    "* Validate dtypes"
   ]
  },
  {
   "cell_type": "code",
   "execution_count": 28,
   "metadata": {},
   "outputs": [
    {
     "name": "stdout",
     "output_type": "stream",
     "text": [
      "<class 'pandas.core.frame.DataFrame'>\n",
      "RangeIndex: 246 entries, 0 to 245\n",
      "Data columns (total 8 columns):\n",
      " #   Column           Non-Null Count  Dtype \n",
      "---  ------           --------------  ----- \n",
      " 0   manager_id       246 non-null    int64 \n",
      " 1   manager_name     246 non-null    object\n",
      " 2   country          246 non-null    object\n",
      " 3   active           246 non-null    int64 \n",
      " 4   joined_club      246 non-null    object\n",
      " 5   date_of_birth    246 non-null    object\n",
      " 6   epl_seasons      246 non-null    int64 \n",
      " 7   epl_debut_match  246 non-null    object\n",
      "dtypes: int64(3), object(5)\n",
      "memory usage: 15.5+ KB\n"
     ]
    }
   ],
   "source": [
    "df_manager.info()"
   ]
  },
  {
   "cell_type": "code",
   "execution_count": 29,
   "metadata": {},
   "outputs": [
    {
     "ename": "ValueError",
     "evalue": "time data \"0000-00-00\" at position 5 doesn't match format specified",
     "output_type": "error",
     "traceback": [
      "\u001b[0;31m---------------------------------------------------------------------------\u001b[0m",
      "\u001b[0;31mValueError\u001b[0m                                Traceback (most recent call last)",
      "Cell \u001b[0;32mIn[29], line 1\u001b[0m\n\u001b[0;32m----> 1\u001b[0m df_manager[\u001b[39m'\u001b[39m\u001b[39mjoined_club\u001b[39m\u001b[39m'\u001b[39m] \u001b[39m=\u001b[39m pd\u001b[39m.\u001b[39;49mto_datetime(df_manager[\u001b[39m'\u001b[39;49m\u001b[39mjoined_club\u001b[39;49m\u001b[39m'\u001b[39;49m], \u001b[39mformat\u001b[39;49m\u001b[39m=\u001b[39;49m\u001b[39m'\u001b[39;49m\u001b[39m%\u001b[39;49m\u001b[39mY-\u001b[39;49m\u001b[39m%\u001b[39;49m\u001b[39mm-\u001b[39;49m\u001b[39m%d\u001b[39;49;00m\u001b[39m'\u001b[39;49m)\n\u001b[1;32m      2\u001b[0m df_manager[\u001b[39m'\u001b[39m\u001b[39mdate_of_birth\u001b[39m\u001b[39m'\u001b[39m] \u001b[39m=\u001b[39m pd\u001b[39m.\u001b[39mto_datetime(df_manager[\u001b[39m'\u001b[39m\u001b[39mdate_of_birth\u001b[39m\u001b[39m'\u001b[39m], \u001b[39mformat\u001b[39m\u001b[39m=\u001b[39m\u001b[39m'\u001b[39m\u001b[39m%\u001b[39m\u001b[39mY-\u001b[39m\u001b[39m%\u001b[39m\u001b[39mm-\u001b[39m\u001b[39m%d\u001b[39;00m\u001b[39m'\u001b[39m)\n\u001b[1;32m      3\u001b[0m df_manager\u001b[39m.\u001b[39minfo()\n",
      "File \u001b[0;32m~/.local/lib/python3.10/site-packages/pandas/core/tools/datetimes.py:1064\u001b[0m, in \u001b[0;36mto_datetime\u001b[0;34m(arg, errors, dayfirst, yearfirst, utc, format, exact, unit, infer_datetime_format, origin, cache)\u001b[0m\n\u001b[1;32m   1062\u001b[0m             result \u001b[39m=\u001b[39m arg\u001b[39m.\u001b[39mtz_localize(tz)\n\u001b[1;32m   1063\u001b[0m \u001b[39melif\u001b[39;00m \u001b[39misinstance\u001b[39m(arg, ABCSeries):\n\u001b[0;32m-> 1064\u001b[0m     cache_array \u001b[39m=\u001b[39m _maybe_cache(arg, \u001b[39mformat\u001b[39;49m, cache, convert_listlike)\n\u001b[1;32m   1065\u001b[0m     \u001b[39mif\u001b[39;00m \u001b[39mnot\u001b[39;00m cache_array\u001b[39m.\u001b[39mempty:\n\u001b[1;32m   1066\u001b[0m         result \u001b[39m=\u001b[39m arg\u001b[39m.\u001b[39mmap(cache_array)\n",
      "File \u001b[0;32m~/.local/lib/python3.10/site-packages/pandas/core/tools/datetimes.py:229\u001b[0m, in \u001b[0;36m_maybe_cache\u001b[0;34m(arg, format, cache, convert_listlike)\u001b[0m\n\u001b[1;32m    227\u001b[0m unique_dates \u001b[39m=\u001b[39m unique(arg)\n\u001b[1;32m    228\u001b[0m \u001b[39mif\u001b[39;00m \u001b[39mlen\u001b[39m(unique_dates) \u001b[39m<\u001b[39m \u001b[39mlen\u001b[39m(arg):\n\u001b[0;32m--> 229\u001b[0m     cache_dates \u001b[39m=\u001b[39m convert_listlike(unique_dates, \u001b[39mformat\u001b[39;49m)\n\u001b[1;32m    230\u001b[0m     \u001b[39m# GH#45319\u001b[39;00m\n\u001b[1;32m    231\u001b[0m     \u001b[39mtry\u001b[39;00m:\n",
      "File \u001b[0;32m~/.local/lib/python3.10/site-packages/pandas/core/tools/datetimes.py:438\u001b[0m, in \u001b[0;36m_convert_listlike_datetimes\u001b[0;34m(arg, format, name, tz, unit, errors, infer_datetime_format, dayfirst, yearfirst, exact)\u001b[0m\n\u001b[1;32m    436\u001b[0m \u001b[39massert\u001b[39;00m \u001b[39mformat\u001b[39m \u001b[39mis\u001b[39;00m \u001b[39mNone\u001b[39;00m \u001b[39mor\u001b[39;00m infer_datetime_format\n\u001b[1;32m    437\u001b[0m utc \u001b[39m=\u001b[39m tz \u001b[39m==\u001b[39m \u001b[39m\"\u001b[39m\u001b[39mutc\u001b[39m\u001b[39m\"\u001b[39m\n\u001b[0;32m--> 438\u001b[0m result, tz_parsed \u001b[39m=\u001b[39m objects_to_datetime64ns(\n\u001b[1;32m    439\u001b[0m     arg,\n\u001b[1;32m    440\u001b[0m     dayfirst\u001b[39m=\u001b[39;49mdayfirst,\n\u001b[1;32m    441\u001b[0m     yearfirst\u001b[39m=\u001b[39;49myearfirst,\n\u001b[1;32m    442\u001b[0m     utc\u001b[39m=\u001b[39;49mutc,\n\u001b[1;32m    443\u001b[0m     errors\u001b[39m=\u001b[39;49merrors,\n\u001b[1;32m    444\u001b[0m     require_iso8601\u001b[39m=\u001b[39;49mrequire_iso8601,\n\u001b[1;32m    445\u001b[0m     allow_object\u001b[39m=\u001b[39;49m\u001b[39mTrue\u001b[39;49;00m,\n\u001b[1;32m    446\u001b[0m )\n\u001b[1;32m    448\u001b[0m \u001b[39mif\u001b[39;00m tz_parsed \u001b[39mis\u001b[39;00m \u001b[39mnot\u001b[39;00m \u001b[39mNone\u001b[39;00m:\n\u001b[1;32m    449\u001b[0m     \u001b[39m# We can take a shortcut since the datetime64 numpy array\u001b[39;00m\n\u001b[1;32m    450\u001b[0m     \u001b[39m# is in UTC\u001b[39;00m\n\u001b[1;32m    451\u001b[0m     dta \u001b[39m=\u001b[39m DatetimeArray(result, dtype\u001b[39m=\u001b[39mtz_to_dtype(tz_parsed))\n",
      "File \u001b[0;32m~/.local/lib/python3.10/site-packages/pandas/core/arrays/datetimes.py:2177\u001b[0m, in \u001b[0;36mobjects_to_datetime64ns\u001b[0;34m(data, dayfirst, yearfirst, utc, errors, require_iso8601, allow_object, allow_mixed)\u001b[0m\n\u001b[1;32m   2175\u001b[0m order: Literal[\u001b[39m\"\u001b[39m\u001b[39mF\u001b[39m\u001b[39m\"\u001b[39m, \u001b[39m\"\u001b[39m\u001b[39mC\u001b[39m\u001b[39m\"\u001b[39m] \u001b[39m=\u001b[39m \u001b[39m\"\u001b[39m\u001b[39mF\u001b[39m\u001b[39m\"\u001b[39m \u001b[39mif\u001b[39;00m flags\u001b[39m.\u001b[39mf_contiguous \u001b[39melse\u001b[39;00m \u001b[39m\"\u001b[39m\u001b[39mC\u001b[39m\u001b[39m\"\u001b[39m\n\u001b[1;32m   2176\u001b[0m \u001b[39mtry\u001b[39;00m:\n\u001b[0;32m-> 2177\u001b[0m     result, tz_parsed \u001b[39m=\u001b[39m tslib\u001b[39m.\u001b[39;49marray_to_datetime(\n\u001b[1;32m   2178\u001b[0m         data\u001b[39m.\u001b[39;49mravel(\u001b[39m\"\u001b[39;49m\u001b[39mK\u001b[39;49m\u001b[39m\"\u001b[39;49m),\n\u001b[1;32m   2179\u001b[0m         errors\u001b[39m=\u001b[39;49merrors,\n\u001b[1;32m   2180\u001b[0m         utc\u001b[39m=\u001b[39;49mutc,\n\u001b[1;32m   2181\u001b[0m         dayfirst\u001b[39m=\u001b[39;49mdayfirst,\n\u001b[1;32m   2182\u001b[0m         yearfirst\u001b[39m=\u001b[39;49myearfirst,\n\u001b[1;32m   2183\u001b[0m         require_iso8601\u001b[39m=\u001b[39;49mrequire_iso8601,\n\u001b[1;32m   2184\u001b[0m         allow_mixed\u001b[39m=\u001b[39;49mallow_mixed,\n\u001b[1;32m   2185\u001b[0m     )\n\u001b[1;32m   2186\u001b[0m     result \u001b[39m=\u001b[39m result\u001b[39m.\u001b[39mreshape(data\u001b[39m.\u001b[39mshape, order\u001b[39m=\u001b[39morder)\n\u001b[1;32m   2187\u001b[0m \u001b[39mexcept\u001b[39;00m \u001b[39mOverflowError\u001b[39;00m \u001b[39mas\u001b[39;00m err:\n\u001b[1;32m   2188\u001b[0m     \u001b[39m# Exception is raised when a part of date is greater than 32 bit signed int\u001b[39;00m\n",
      "File \u001b[0;32m~/.local/lib/python3.10/site-packages/pandas/_libs/tslib.pyx:427\u001b[0m, in \u001b[0;36mpandas._libs.tslib.array_to_datetime\u001b[0;34m()\u001b[0m\n",
      "File \u001b[0;32m~/.local/lib/python3.10/site-packages/pandas/_libs/tslib.pyx:599\u001b[0m, in \u001b[0;36mpandas._libs.tslib.array_to_datetime\u001b[0;34m()\u001b[0m\n",
      "\u001b[0;31mValueError\u001b[0m: time data \"0000-00-00\" at position 5 doesn't match format specified"
     ]
    }
   ],
   "source": [
    "df_manager['joined_club'] = pd.to_datetime(df_manager['joined_club'], format='%Y-%m-%d')\n",
    "df_manager['date_of_birth'] = pd.to_datetime(df_manager['date_of_birth'], format='%Y-%m-%d')\n",
    "df_manager.info()"
   ]
  },
  {
   "attachments": {},
   "cell_type": "markdown",
   "metadata": {},
   "source": [
    "* As `joined_club` has value 'df_manager' represent almost 91% of data, we'll drop it."
   ]
  },
  {
   "cell_type": "code",
   "execution_count": 30,
   "metadata": {},
   "outputs": [
    {
     "data": {
      "text/plain": [
       "91.46341463414635"
      ]
     },
     "execution_count": 30,
     "metadata": {},
     "output_type": "execute_result"
    }
   ],
   "source": [
    "len(df_manager[df_manager['joined_club'] == '0000-00-00']) / len(df_manager) * 100"
   ]
  },
  {
   "cell_type": "code",
   "execution_count": 31,
   "metadata": {},
   "outputs": [],
   "source": [
    "df_manager = df_manager.drop(columns='joined_club')"
   ]
  },
  {
   "cell_type": "code",
   "execution_count": 32,
   "metadata": {},
   "outputs": [
    {
     "name": "stdout",
     "output_type": "stream",
     "text": [
      "<class 'pandas.core.frame.DataFrame'>\n",
      "RangeIndex: 246 entries, 0 to 245\n",
      "Data columns (total 7 columns):\n",
      " #   Column           Non-Null Count  Dtype         \n",
      "---  ------           --------------  -----         \n",
      " 0   manager_id       246 non-null    int64         \n",
      " 1   manager_name     246 non-null    object        \n",
      " 2   country          246 non-null    object        \n",
      " 3   active           246 non-null    int64         \n",
      " 4   date_of_birth    246 non-null    datetime64[ns]\n",
      " 5   epl_seasons      246 non-null    int64         \n",
      " 6   epl_debut_match  246 non-null    object        \n",
      "dtypes: datetime64[ns](1), int64(3), object(3)\n",
      "memory usage: 13.6+ KB\n"
     ]
    }
   ],
   "source": [
    "df_manager['date_of_birth'] = pd.to_datetime(df_manager['date_of_birth'], format='%Y-%m-%d')\n",
    "df_manager.info()"
   ]
  },
  {
   "attachments": {},
   "cell_type": "markdown",
   "metadata": {},
   "source": [
    "##### Manager Club"
   ]
  },
  {
   "cell_type": "code",
   "execution_count": 33,
   "metadata": {},
   "outputs": [
    {
     "data": {
      "text/plain": [
       "(815, 3)"
      ]
     },
     "execution_count": 33,
     "metadata": {},
     "output_type": "execute_result"
    }
   ],
   "source": [
    "df_manager_club.shape"
   ]
  },
  {
   "cell_type": "code",
   "execution_count": 34,
   "metadata": {},
   "outputs": [
    {
     "data": {
      "text/html": [
       "<div>\n",
       "<style scoped>\n",
       "    .dataframe tbody tr th:only-of-type {\n",
       "        vertical-align: middle;\n",
       "    }\n",
       "\n",
       "    .dataframe tbody tr th {\n",
       "        vertical-align: top;\n",
       "    }\n",
       "\n",
       "    .dataframe thead th {\n",
       "        text-align: right;\n",
       "    }\n",
       "</style>\n",
       "<table border=\"1\" class=\"dataframe\">\n",
       "  <thead>\n",
       "    <tr style=\"text-align: right;\">\n",
       "      <th></th>\n",
       "      <th>manager_id</th>\n",
       "      <th>club_id</th>\n",
       "      <th>season</th>\n",
       "    </tr>\n",
       "  </thead>\n",
       "  <tbody>\n",
       "    <tr>\n",
       "      <th>0</th>\n",
       "      <td>67</td>\n",
       "      <td>120</td>\n",
       "      <td>2019/20</td>\n",
       "    </tr>\n",
       "    <tr>\n",
       "      <th>1</th>\n",
       "      <td>67</td>\n",
       "      <td>120</td>\n",
       "      <td>2020/21</td>\n",
       "    </tr>\n",
       "    <tr>\n",
       "      <th>2</th>\n",
       "      <td>67</td>\n",
       "      <td>120</td>\n",
       "      <td>2021/22</td>\n",
       "    </tr>\n",
       "    <tr>\n",
       "      <th>3</th>\n",
       "      <td>95</td>\n",
       "      <td>120</td>\n",
       "      <td>2019/20</td>\n",
       "    </tr>\n",
       "    <tr>\n",
       "      <th>4</th>\n",
       "      <td>96</td>\n",
       "      <td>120</td>\n",
       "      <td>2018/19</td>\n",
       "    </tr>\n",
       "  </tbody>\n",
       "</table>\n",
       "</div>"
      ],
      "text/plain": [
       "   manager_id  club_id   season\n",
       "0          67      120  2019/20\n",
       "1          67      120  2020/21\n",
       "2          67      120  2021/22\n",
       "3          95      120  2019/20\n",
       "4          96      120  2018/19"
      ]
     },
     "execution_count": 34,
     "metadata": {},
     "output_type": "execute_result"
    }
   ],
   "source": [
    "df_manager_club.head()"
   ]
  },
  {
   "attachments": {},
   "cell_type": "markdown",
   "metadata": {},
   "source": [
    "* Check Duplicates"
   ]
  },
  {
   "cell_type": "code",
   "execution_count": 35,
   "metadata": {},
   "outputs": [
    {
     "data": {
      "text/plain": [
       "0"
      ]
     },
     "execution_count": 35,
     "metadata": {},
     "output_type": "execute_result"
    }
   ],
   "source": [
    "df_manager_club.duplicated().sum()"
   ]
  },
  {
   "attachments": {},
   "cell_type": "markdown",
   "metadata": {},
   "source": [
    "* Check Nulls"
   ]
  },
  {
   "cell_type": "code",
   "execution_count": 36,
   "metadata": {},
   "outputs": [
    {
     "data": {
      "text/plain": [
       "manager_id    0\n",
       "club_id       0\n",
       "season        0\n",
       "dtype: int64"
      ]
     },
     "execution_count": 36,
     "metadata": {},
     "output_type": "execute_result"
    }
   ],
   "source": [
    "df_manager_club.replace({'Null': np.nan,\n",
    "                         '\\\\N': np.nan})\n",
    "df_manager_club.isna().sum()"
   ]
  },
  {
   "attachments": {},
   "cell_type": "markdown",
   "metadata": {},
   "source": [
    "* Validate dtypes"
   ]
  },
  {
   "cell_type": "code",
   "execution_count": 37,
   "metadata": {},
   "outputs": [
    {
     "name": "stdout",
     "output_type": "stream",
     "text": [
      "<class 'pandas.core.frame.DataFrame'>\n",
      "RangeIndex: 815 entries, 0 to 814\n",
      "Data columns (total 3 columns):\n",
      " #   Column      Non-Null Count  Dtype \n",
      "---  ------      --------------  ----- \n",
      " 0   manager_id  815 non-null    int64 \n",
      " 1   club_id     815 non-null    int64 \n",
      " 2   season      815 non-null    object\n",
      "dtypes: int64(2), object(1)\n",
      "memory usage: 19.2+ KB\n"
     ]
    }
   ],
   "source": [
    "df_manager_club.info()"
   ]
  },
  {
   "cell_type": "code",
   "execution_count": 38,
   "metadata": {},
   "outputs": [
    {
     "data": {
      "text/html": [
       "<div>\n",
       "<style scoped>\n",
       "    .dataframe tbody tr th:only-of-type {\n",
       "        vertical-align: middle;\n",
       "    }\n",
       "\n",
       "    .dataframe tbody tr th {\n",
       "        vertical-align: top;\n",
       "    }\n",
       "\n",
       "    .dataframe thead th {\n",
       "        text-align: right;\n",
       "    }\n",
       "</style>\n",
       "<table border=\"1\" class=\"dataframe\">\n",
       "  <thead>\n",
       "    <tr style=\"text-align: right;\">\n",
       "      <th></th>\n",
       "      <th>manager_id</th>\n",
       "      <th>club_id</th>\n",
       "      <th>season</th>\n",
       "    </tr>\n",
       "  </thead>\n",
       "  <tbody>\n",
       "    <tr>\n",
       "      <th>0</th>\n",
       "      <td>67</td>\n",
       "      <td>120</td>\n",
       "      <td>2019/20</td>\n",
       "    </tr>\n",
       "    <tr>\n",
       "      <th>1</th>\n",
       "      <td>67</td>\n",
       "      <td>120</td>\n",
       "      <td>2020/21</td>\n",
       "    </tr>\n",
       "    <tr>\n",
       "      <th>2</th>\n",
       "      <td>67</td>\n",
       "      <td>120</td>\n",
       "      <td>2021/22</td>\n",
       "    </tr>\n",
       "    <tr>\n",
       "      <th>3</th>\n",
       "      <td>95</td>\n",
       "      <td>120</td>\n",
       "      <td>2019/20</td>\n",
       "    </tr>\n",
       "    <tr>\n",
       "      <th>4</th>\n",
       "      <td>96</td>\n",
       "      <td>120</td>\n",
       "      <td>2018/19</td>\n",
       "    </tr>\n",
       "  </tbody>\n",
       "</table>\n",
       "</div>"
      ],
      "text/plain": [
       "   manager_id  club_id   season\n",
       "0          67      120  2019/20\n",
       "1          67      120  2020/21\n",
       "2          67      120  2021/22\n",
       "3          95      120  2019/20\n",
       "4          96      120  2018/19"
      ]
     },
     "execution_count": 38,
     "metadata": {},
     "output_type": "execute_result"
    }
   ],
   "source": [
    "df_manager_club.head()"
   ]
  },
  {
   "attachments": {},
   "cell_type": "markdown",
   "metadata": {},
   "source": [
    "##### Match"
   ]
  },
  {
   "cell_type": "code",
   "execution_count": 39,
   "metadata": {},
   "outputs": [
    {
     "data": {
      "text/plain": [
       "(11266, 10)"
      ]
     },
     "execution_count": 39,
     "metadata": {},
     "output_type": "execute_result"
    }
   ],
   "source": [
    "df_match.shape"
   ]
  },
  {
   "cell_type": "code",
   "execution_count": 40,
   "metadata": {},
   "outputs": [
    {
     "data": {
      "text/html": [
       "<div>\n",
       "<style scoped>\n",
       "    .dataframe tbody tr th:only-of-type {\n",
       "        vertical-align: middle;\n",
       "    }\n",
       "\n",
       "    .dataframe tbody tr th {\n",
       "        vertical-align: top;\n",
       "    }\n",
       "\n",
       "    .dataframe thead th {\n",
       "        text-align: right;\n",
       "    }\n",
       "</style>\n",
       "<table border=\"1\" class=\"dataframe\">\n",
       "  <thead>\n",
       "    <tr style=\"text-align: right;\">\n",
       "      <th></th>\n",
       "      <th>match_id</th>\n",
       "      <th>home_team_id</th>\n",
       "      <th>away_team_id</th>\n",
       "      <th>home_team_goals</th>\n",
       "      <th>away_team_goals</th>\n",
       "      <th>match_date</th>\n",
       "      <th>matchweek</th>\n",
       "      <th>referee</th>\n",
       "      <th>stadium_id</th>\n",
       "      <th>season</th>\n",
       "    </tr>\n",
       "  </thead>\n",
       "  <tbody>\n",
       "    <tr>\n",
       "      <th>0</th>\n",
       "      <td>1</td>\n",
       "      <td>120</td>\n",
       "      <td>150</td>\n",
       "      <td>2</td>\n",
       "      <td>4</td>\n",
       "      <td>1992-08-15</td>\n",
       "      <td>1</td>\n",
       "      <td>Alan Gunn</td>\n",
       "      <td>231</td>\n",
       "      <td>1992/93</td>\n",
       "    </tr>\n",
       "    <tr>\n",
       "      <th>1</th>\n",
       "      <td>2</td>\n",
       "      <td>134</td>\n",
       "      <td>152</td>\n",
       "      <td>1</td>\n",
       "      <td>1</td>\n",
       "      <td>1992-08-15</td>\n",
       "      <td>1</td>\n",
       "      <td>Jim Borrett</td>\n",
       "      <td>147</td>\n",
       "      <td>1992/93</td>\n",
       "    </tr>\n",
       "    <tr>\n",
       "      <th>2</th>\n",
       "      <td>3</td>\n",
       "      <td>135</td>\n",
       "      <td>148</td>\n",
       "      <td>2</td>\n",
       "      <td>1</td>\n",
       "      <td>1992-08-15</td>\n",
       "      <td>1</td>\n",
       "      <td>Howard King</td>\n",
       "      <td>148</td>\n",
       "      <td>1992/93</td>\n",
       "    </tr>\n",
       "    <tr>\n",
       "      <th>3</th>\n",
       "      <td>4</td>\n",
       "      <td>136</td>\n",
       "      <td>124</td>\n",
       "      <td>3</td>\n",
       "      <td>3</td>\n",
       "      <td>1992-08-15</td>\n",
       "      <td>1</td>\n",
       "      <td>Roger Milford</td>\n",
       "      <td>149</td>\n",
       "      <td>1992/93</td>\n",
       "    </tr>\n",
       "    <tr>\n",
       "      <th>4</th>\n",
       "      <td>5</td>\n",
       "      <td>138</td>\n",
       "      <td>157</td>\n",
       "      <td>1</td>\n",
       "      <td>1</td>\n",
       "      <td>1992-08-15</td>\n",
       "      <td>1</td>\n",
       "      <td>Kelvin Morton</td>\n",
       "      <td>151</td>\n",
       "      <td>1992/93</td>\n",
       "    </tr>\n",
       "  </tbody>\n",
       "</table>\n",
       "</div>"
      ],
      "text/plain": [
       "   match_id  home_team_id  away_team_id  home_team_goals  away_team_goals  \\\n",
       "0         1           120           150                2                4   \n",
       "1         2           134           152                1                1   \n",
       "2         3           135           148                2                1   \n",
       "3         4           136           124                3                3   \n",
       "4         5           138           157                1                1   \n",
       "\n",
       "   match_date matchweek        referee  stadium_id   season  \n",
       "0  1992-08-15         1      Alan Gunn         231  1992/93  \n",
       "1  1992-08-15         1    Jim Borrett         147  1992/93  \n",
       "2  1992-08-15         1    Howard King         148  1992/93  \n",
       "3  1992-08-15         1  Roger Milford         149  1992/93  \n",
       "4  1992-08-15         1  Kelvin Morton         151  1992/93  "
      ]
     },
     "execution_count": 40,
     "metadata": {},
     "output_type": "execute_result"
    }
   ],
   "source": [
    "df_match.head()"
   ]
  },
  {
   "attachments": {},
   "cell_type": "markdown",
   "metadata": {},
   "source": [
    "* Check Duplicates"
   ]
  },
  {
   "cell_type": "code",
   "execution_count": 41,
   "metadata": {},
   "outputs": [
    {
     "data": {
      "text/plain": [
       "0"
      ]
     },
     "execution_count": 41,
     "metadata": {},
     "output_type": "execute_result"
    }
   ],
   "source": [
    "df_match.duplicated().sum()"
   ]
  },
  {
   "attachments": {},
   "cell_type": "markdown",
   "metadata": {},
   "source": [
    "* Check Nulls"
   ]
  },
  {
   "cell_type": "code",
   "execution_count": 42,
   "metadata": {},
   "outputs": [
    {
     "data": {
      "text/plain": [
       "match_id           0\n",
       "home_team_id       0\n",
       "away_team_id       0\n",
       "home_team_goals    0\n",
       "away_team_goals    0\n",
       "match_date         0\n",
       "matchweek          1\n",
       "referee            1\n",
       "stadium_id         0\n",
       "season             0\n",
       "dtype: int64"
      ]
     },
     "execution_count": 42,
     "metadata": {},
     "output_type": "execute_result"
    }
   ],
   "source": [
    "df_match = df_match.replace({'Null': np.nan,\n",
    "                             '\\\\N': np.nan})\n",
    "df_match.isna().sum()"
   ]
  },
  {
   "cell_type": "code",
   "execution_count": 43,
   "metadata": {},
   "outputs": [
    {
     "data": {
      "text/html": [
       "<div>\n",
       "<style scoped>\n",
       "    .dataframe tbody tr th:only-of-type {\n",
       "        vertical-align: middle;\n",
       "    }\n",
       "\n",
       "    .dataframe tbody tr th {\n",
       "        vertical-align: top;\n",
       "    }\n",
       "\n",
       "    .dataframe thead th {\n",
       "        text-align: right;\n",
       "    }\n",
       "</style>\n",
       "<table border=\"1\" class=\"dataframe\">\n",
       "  <thead>\n",
       "    <tr style=\"text-align: right;\">\n",
       "      <th></th>\n",
       "      <th>match_id</th>\n",
       "      <th>home_team_id</th>\n",
       "      <th>away_team_id</th>\n",
       "      <th>home_team_goals</th>\n",
       "      <th>away_team_goals</th>\n",
       "      <th>match_date</th>\n",
       "      <th>matchweek</th>\n",
       "      <th>referee</th>\n",
       "      <th>stadium_id</th>\n",
       "      <th>season</th>\n",
       "    </tr>\n",
       "  </thead>\n",
       "  <tbody>\n",
       "    <tr>\n",
       "      <th>3955</th>\n",
       "      <td>3956</td>\n",
       "      <td>124</td>\n",
       "      <td>142</td>\n",
       "      <td>2</td>\n",
       "      <td>1</td>\n",
       "      <td>0000-00-00</td>\n",
       "      <td>NaN</td>\n",
       "      <td>NaN</td>\n",
       "      <td>137</td>\n",
       "      <td>2001/02</td>\n",
       "    </tr>\n",
       "  </tbody>\n",
       "</table>\n",
       "</div>"
      ],
      "text/plain": [
       "      match_id  home_team_id  away_team_id  home_team_goals  away_team_goals  \\\n",
       "3955      3956           124           142                2                1   \n",
       "\n",
       "      match_date matchweek referee  stadium_id   season  \n",
       "3955  0000-00-00       NaN     NaN         137  2001/02  "
      ]
     },
     "execution_count": 43,
     "metadata": {},
     "output_type": "execute_result"
    }
   ],
   "source": [
    "df_match[df_match.isna().any(axis=1)]"
   ]
  },
  {
   "attachments": {},
   "cell_type": "markdown",
   "metadata": {},
   "source": [
    "Note: Got the info from the following link: https://www.besoccer.com/match/blackburn-rovers-fc/ipswich-town-fc/2002955/rounds\n",
    "\n",
    "And you can get more info from Premier League official website: https://www.premierleague.com/match/3956"
   ]
  },
  {
   "cell_type": "code",
   "execution_count": 44,
   "metadata": {},
   "outputs": [],
   "source": [
    "df_match.loc[df_match.isna().any(axis=1), 'match_date'] = '2002-03-13'\n",
    "df_match.loc[df_match.isna().any(axis=1), 'matchweek'] = '27'\n",
    "df_match.loc[df_match.isna().any(axis=1), 'referee'] = 'Phil Dowd'"
   ]
  },
  {
   "cell_type": "code",
   "execution_count": 45,
   "metadata": {},
   "outputs": [
    {
     "data": {
      "text/plain": [
       "match_id           0\n",
       "home_team_id       0\n",
       "away_team_id       0\n",
       "home_team_goals    0\n",
       "away_team_goals    0\n",
       "match_date         0\n",
       "matchweek          0\n",
       "referee            0\n",
       "stadium_id         0\n",
       "season             0\n",
       "dtype: int64"
      ]
     },
     "execution_count": 45,
     "metadata": {},
     "output_type": "execute_result"
    }
   ],
   "source": [
    "df_match.isna().sum()"
   ]
  },
  {
   "attachments": {},
   "cell_type": "markdown",
   "metadata": {},
   "source": [
    "* Validate dtypes"
   ]
  },
  {
   "cell_type": "code",
   "execution_count": 46,
   "metadata": {},
   "outputs": [
    {
     "name": "stdout",
     "output_type": "stream",
     "text": [
      "<class 'pandas.core.frame.DataFrame'>\n",
      "RangeIndex: 11266 entries, 0 to 11265\n",
      "Data columns (total 10 columns):\n",
      " #   Column           Non-Null Count  Dtype \n",
      "---  ------           --------------  ----- \n",
      " 0   match_id         11266 non-null  int64 \n",
      " 1   home_team_id     11266 non-null  int64 \n",
      " 2   away_team_id     11266 non-null  int64 \n",
      " 3   home_team_goals  11266 non-null  int64 \n",
      " 4   away_team_goals  11266 non-null  int64 \n",
      " 5   match_date       11266 non-null  object\n",
      " 6   matchweek        11266 non-null  object\n",
      " 7   referee          11266 non-null  object\n",
      " 8   stadium_id       11266 non-null  int64 \n",
      " 9   season           11266 non-null  object\n",
      "dtypes: int64(6), object(4)\n",
      "memory usage: 880.3+ KB\n"
     ]
    }
   ],
   "source": [
    "df_match.info()"
   ]
  },
  {
   "cell_type": "code",
   "execution_count": 47,
   "metadata": {},
   "outputs": [],
   "source": [
    "df_match['match_date'] = pd.to_datetime(df_match['match_date'], format='%Y-%m-%d')"
   ]
  },
  {
   "cell_type": "code",
   "execution_count": 48,
   "metadata": {},
   "outputs": [
    {
     "name": "stdout",
     "output_type": "stream",
     "text": [
      "<class 'pandas.core.frame.DataFrame'>\n",
      "RangeIndex: 11266 entries, 0 to 11265\n",
      "Data columns (total 10 columns):\n",
      " #   Column           Non-Null Count  Dtype         \n",
      "---  ------           --------------  -----         \n",
      " 0   match_id         11266 non-null  int64         \n",
      " 1   home_team_id     11266 non-null  int64         \n",
      " 2   away_team_id     11266 non-null  int64         \n",
      " 3   home_team_goals  11266 non-null  int64         \n",
      " 4   away_team_goals  11266 non-null  int64         \n",
      " 5   match_date       11266 non-null  datetime64[ns]\n",
      " 6   matchweek        11266 non-null  object        \n",
      " 7   referee          11266 non-null  object        \n",
      " 8   stadium_id       11266 non-null  int64         \n",
      " 9   season           11266 non-null  object        \n",
      "dtypes: datetime64[ns](1), int64(6), object(3)\n",
      "memory usage: 880.3+ KB\n"
     ]
    }
   ],
   "source": [
    "df_match.info()"
   ]
  },
  {
   "attachments": {},
   "cell_type": "markdown",
   "metadata": {},
   "source": [
    "##### Player"
   ]
  },
  {
   "cell_type": "code",
   "execution_count": 49,
   "metadata": {},
   "outputs": [
    {
     "data": {
      "text/plain": [
       "(6631, 7)"
      ]
     },
     "execution_count": 49,
     "metadata": {},
     "output_type": "execute_result"
    }
   ],
   "source": [
    "df_player.shape"
   ]
  },
  {
   "cell_type": "code",
   "execution_count": 50,
   "metadata": {},
   "outputs": [
    {
     "data": {
      "text/html": [
       "<div>\n",
       "<style scoped>\n",
       "    .dataframe tbody tr th:only-of-type {\n",
       "        vertical-align: middle;\n",
       "    }\n",
       "\n",
       "    .dataframe tbody tr th {\n",
       "        vertical-align: top;\n",
       "    }\n",
       "\n",
       "    .dataframe thead th {\n",
       "        text-align: right;\n",
       "    }\n",
       "</style>\n",
       "<table border=\"1\" class=\"dataframe\">\n",
       "  <thead>\n",
       "    <tr style=\"text-align: right;\">\n",
       "      <th></th>\n",
       "      <th>player_id</th>\n",
       "      <th>player_name</th>\n",
       "      <th>player_number</th>\n",
       "      <th>position</th>\n",
       "      <th>country</th>\n",
       "      <th>date_of_birth</th>\n",
       "      <th>height</th>\n",
       "    </tr>\n",
       "  </thead>\n",
       "  <tbody>\n",
       "    <tr>\n",
       "      <th>0</th>\n",
       "      <td>p1</td>\n",
       "      <td>Alan Shearer</td>\n",
       "      <td>\\N</td>\n",
       "      <td>Forward</td>\n",
       "      <td>England</td>\n",
       "      <td>1970-08-13</td>\n",
       "      <td>183</td>\n",
       "    </tr>\n",
       "    <tr>\n",
       "      <th>1</th>\n",
       "      <td>p100059</td>\n",
       "      <td>Alberto Moreno</td>\n",
       "      <td>\\N</td>\n",
       "      <td>Defender</td>\n",
       "      <td>Spain</td>\n",
       "      <td>1992-07-05</td>\n",
       "      <td>171</td>\n",
       "    </tr>\n",
       "    <tr>\n",
       "      <th>2</th>\n",
       "      <td>p100180</td>\n",
       "      <td>Danilo</td>\n",
       "      <td>\\N</td>\n",
       "      <td>Defender</td>\n",
       "      <td>Brazil</td>\n",
       "      <td>1991-07-15</td>\n",
       "      <td>184</td>\n",
       "    </tr>\n",
       "    <tr>\n",
       "      <th>3</th>\n",
       "      <td>p10022</td>\n",
       "      <td>Cory Gibbs</td>\n",
       "      <td>\\N</td>\n",
       "      <td>Defender</td>\n",
       "      <td>United States</td>\n",
       "      <td>1980-01-14</td>\n",
       "      <td>188</td>\n",
       "    </tr>\n",
       "    <tr>\n",
       "      <th>4</th>\n",
       "      <td>p10039</td>\n",
       "      <td>Abdeslam Ouaddou</td>\n",
       "      <td>\\N</td>\n",
       "      <td>Defender</td>\n",
       "      <td>Morocco</td>\n",
       "      <td>1978-11-01</td>\n",
       "      <td>193</td>\n",
       "    </tr>\n",
       "  </tbody>\n",
       "</table>\n",
       "</div>"
      ],
      "text/plain": [
       "  player_id       player_name player_number  position        country  \\\n",
       "0        p1      Alan Shearer            \\N   Forward        England   \n",
       "1   p100059    Alberto Moreno            \\N  Defender          Spain   \n",
       "2   p100180            Danilo            \\N  Defender         Brazil   \n",
       "3    p10022        Cory Gibbs            \\N  Defender  United States   \n",
       "4    p10039  Abdeslam Ouaddou            \\N  Defender        Morocco   \n",
       "\n",
       "  date_of_birth height  \n",
       "0    1970-08-13    183  \n",
       "1    1992-07-05    171  \n",
       "2    1991-07-15    184  \n",
       "3    1980-01-14    188  \n",
       "4    1978-11-01    193  "
      ]
     },
     "execution_count": 50,
     "metadata": {},
     "output_type": "execute_result"
    }
   ],
   "source": [
    "df_player.head()"
   ]
  },
  {
   "attachments": {},
   "cell_type": "markdown",
   "metadata": {},
   "source": [
    "* Check Duplicates"
   ]
  },
  {
   "cell_type": "code",
   "execution_count": 51,
   "metadata": {},
   "outputs": [
    {
     "data": {
      "text/plain": [
       "0"
      ]
     },
     "execution_count": 51,
     "metadata": {},
     "output_type": "execute_result"
    }
   ],
   "source": [
    "df_player.duplicated().sum()"
   ]
  },
  {
   "attachments": {},
   "cell_type": "markdown",
   "metadata": {},
   "source": [
    "* Check Nulls"
   ]
  },
  {
   "cell_type": "code",
   "execution_count": 52,
   "metadata": {},
   "outputs": [
    {
     "data": {
      "text/plain": [
       "player_id           0\n",
       "player_name         0\n",
       "player_number    6050\n",
       "position           93\n",
       "country             1\n",
       "date_of_birth       0\n",
       "height            536\n",
       "dtype: int64"
      ]
     },
     "execution_count": 52,
     "metadata": {},
     "output_type": "execute_result"
    }
   ],
   "source": [
    "df_player = df_player.replace({'Null': np.nan,\n",
    "                               '\\\\N': np.nan})\n",
    "df_player.isna().sum()"
   ]
  },
  {
   "attachments": {},
   "cell_type": "markdown",
   "metadata": {},
   "source": [
    "* We'll keep the interesting columns"
   ]
  },
  {
   "cell_type": "code",
   "execution_count": 53,
   "metadata": {},
   "outputs": [
    {
     "data": {
      "text/plain": [
       "player_id      0\n",
       "player_name    0\n",
       "country        1\n",
       "dtype: int64"
      ]
     },
     "execution_count": 53,
     "metadata": {},
     "output_type": "execute_result"
    }
   ],
   "source": [
    "df_player = df_player[['player_id', 'player_name', 'country']]\n",
    "df_player.isna().sum()"
   ]
  },
  {
   "attachments": {},
   "cell_type": "markdown",
   "metadata": {},
   "source": [
    "* Fill player's country from `google`."
   ]
  },
  {
   "cell_type": "code",
   "execution_count": 54,
   "metadata": {},
   "outputs": [
    {
     "data": {
      "text/html": [
       "<div>\n",
       "<style scoped>\n",
       "    .dataframe tbody tr th:only-of-type {\n",
       "        vertical-align: middle;\n",
       "    }\n",
       "\n",
       "    .dataframe tbody tr th {\n",
       "        vertical-align: top;\n",
       "    }\n",
       "\n",
       "    .dataframe thead th {\n",
       "        text-align: right;\n",
       "    }\n",
       "</style>\n",
       "<table border=\"1\" class=\"dataframe\">\n",
       "  <thead>\n",
       "    <tr style=\"text-align: right;\">\n",
       "      <th></th>\n",
       "      <th>player_id</th>\n",
       "      <th>player_name</th>\n",
       "      <th>country</th>\n",
       "    </tr>\n",
       "  </thead>\n",
       "  <tbody>\n",
       "    <tr>\n",
       "      <th>5244</th>\n",
       "      <td>p506759</td>\n",
       "      <td>Danny Taylor</td>\n",
       "      <td>NaN</td>\n",
       "    </tr>\n",
       "  </tbody>\n",
       "</table>\n",
       "</div>"
      ],
      "text/plain": [
       "     player_id   player_name country\n",
       "5244   p506759  Danny Taylor     NaN"
      ]
     },
     "execution_count": 54,
     "metadata": {},
     "output_type": "execute_result"
    }
   ],
   "source": [
    "df_player[df_player.isna().any(axis=1)]"
   ]
  },
  {
   "cell_type": "code",
   "execution_count": 55,
   "metadata": {},
   "outputs": [],
   "source": [
    "df_player.loc[df_player.isna().any(axis=1), 'country'] = 'England'"
   ]
  },
  {
   "cell_type": "code",
   "execution_count": 56,
   "metadata": {},
   "outputs": [
    {
     "data": {
      "text/plain": [
       "player_id      0\n",
       "player_name    0\n",
       "country        0\n",
       "dtype: int64"
      ]
     },
     "execution_count": 56,
     "metadata": {},
     "output_type": "execute_result"
    }
   ],
   "source": [
    "df_player.isna().sum()"
   ]
  },
  {
   "attachments": {},
   "cell_type": "markdown",
   "metadata": {},
   "source": [
    "##### Player Club"
   ]
  },
  {
   "cell_type": "code",
   "execution_count": 57,
   "metadata": {},
   "outputs": [
    {
     "data": {
      "text/plain": [
       "(25248, 3)"
      ]
     },
     "execution_count": 57,
     "metadata": {},
     "output_type": "execute_result"
    }
   ],
   "source": [
    "df_player_club.shape"
   ]
  },
  {
   "cell_type": "code",
   "execution_count": 58,
   "metadata": {},
   "outputs": [
    {
     "data": {
      "text/html": [
       "<div>\n",
       "<style scoped>\n",
       "    .dataframe tbody tr th:only-of-type {\n",
       "        vertical-align: middle;\n",
       "    }\n",
       "\n",
       "    .dataframe tbody tr th {\n",
       "        vertical-align: top;\n",
       "    }\n",
       "\n",
       "    .dataframe thead th {\n",
       "        text-align: right;\n",
       "    }\n",
       "</style>\n",
       "<table border=\"1\" class=\"dataframe\">\n",
       "  <thead>\n",
       "    <tr style=\"text-align: right;\">\n",
       "      <th></th>\n",
       "      <th>player_id</th>\n",
       "      <th>club_id</th>\n",
       "      <th>season</th>\n",
       "    </tr>\n",
       "  </thead>\n",
       "  <tbody>\n",
       "    <tr>\n",
       "      <th>0</th>\n",
       "      <td>p101184</td>\n",
       "      <td>120</td>\n",
       "      <td>2014/15</td>\n",
       "    </tr>\n",
       "    <tr>\n",
       "      <th>1</th>\n",
       "      <td>p101184</td>\n",
       "      <td>120</td>\n",
       "      <td>2015/16</td>\n",
       "    </tr>\n",
       "    <tr>\n",
       "      <th>2</th>\n",
       "      <td>p101184</td>\n",
       "      <td>120</td>\n",
       "      <td>2016/17</td>\n",
       "    </tr>\n",
       "    <tr>\n",
       "      <th>3</th>\n",
       "      <td>p101184</td>\n",
       "      <td>120</td>\n",
       "      <td>2017/18</td>\n",
       "    </tr>\n",
       "    <tr>\n",
       "      <th>4</th>\n",
       "      <td>p101184</td>\n",
       "      <td>120</td>\n",
       "      <td>2018/19</td>\n",
       "    </tr>\n",
       "  </tbody>\n",
       "</table>\n",
       "</div>"
      ],
      "text/plain": [
       "  player_id  club_id   season\n",
       "0   p101184      120  2014/15\n",
       "1   p101184      120  2015/16\n",
       "2   p101184      120  2016/17\n",
       "3   p101184      120  2017/18\n",
       "4   p101184      120  2018/19"
      ]
     },
     "execution_count": 58,
     "metadata": {},
     "output_type": "execute_result"
    }
   ],
   "source": [
    "df_player_club.head()"
   ]
  },
  {
   "attachments": {},
   "cell_type": "markdown",
   "metadata": {},
   "source": [
    "* Check Duplicates"
   ]
  },
  {
   "cell_type": "code",
   "execution_count": 59,
   "metadata": {},
   "outputs": [
    {
     "data": {
      "text/plain": [
       "0"
      ]
     },
     "execution_count": 59,
     "metadata": {},
     "output_type": "execute_result"
    }
   ],
   "source": [
    "df_player_club.duplicated().sum()"
   ]
  },
  {
   "attachments": {},
   "cell_type": "markdown",
   "metadata": {},
   "source": [
    "* Check Nulls"
   ]
  },
  {
   "cell_type": "code",
   "execution_count": 60,
   "metadata": {},
   "outputs": [
    {
     "data": {
      "text/plain": [
       "player_id    0\n",
       "club_id      0\n",
       "season       0\n",
       "dtype: int64"
      ]
     },
     "execution_count": 60,
     "metadata": {},
     "output_type": "execute_result"
    }
   ],
   "source": [
    "df_player_club = df_player_club.replace({'Null': np.nan,\n",
    "                                         '\\\\N': np.nan})\n",
    "df_player_club.isna().sum()"
   ]
  },
  {
   "attachments": {},
   "cell_type": "markdown",
   "metadata": {},
   "source": [
    "* Validate dtypes"
   ]
  },
  {
   "cell_type": "code",
   "execution_count": 61,
   "metadata": {},
   "outputs": [
    {
     "name": "stdout",
     "output_type": "stream",
     "text": [
      "<class 'pandas.core.frame.DataFrame'>\n",
      "RangeIndex: 25248 entries, 0 to 25247\n",
      "Data columns (total 3 columns):\n",
      " #   Column     Non-Null Count  Dtype \n",
      "---  ------     --------------  ----- \n",
      " 0   player_id  25248 non-null  object\n",
      " 1   club_id    25248 non-null  int64 \n",
      " 2   season     25248 non-null  object\n",
      "dtypes: int64(1), object(2)\n",
      "memory usage: 591.9+ KB\n"
     ]
    }
   ],
   "source": [
    "df_player_club.info()"
   ]
  },
  {
   "cell_type": "code",
   "execution_count": 62,
   "metadata": {},
   "outputs": [
    {
     "data": {
      "text/html": [
       "<div>\n",
       "<style scoped>\n",
       "    .dataframe tbody tr th:only-of-type {\n",
       "        vertical-align: middle;\n",
       "    }\n",
       "\n",
       "    .dataframe tbody tr th {\n",
       "        vertical-align: top;\n",
       "    }\n",
       "\n",
       "    .dataframe thead th {\n",
       "        text-align: right;\n",
       "    }\n",
       "</style>\n",
       "<table border=\"1\" class=\"dataframe\">\n",
       "  <thead>\n",
       "    <tr style=\"text-align: right;\">\n",
       "      <th></th>\n",
       "      <th>player_id</th>\n",
       "      <th>club_id</th>\n",
       "      <th>season</th>\n",
       "    </tr>\n",
       "  </thead>\n",
       "  <tbody>\n",
       "    <tr>\n",
       "      <th>0</th>\n",
       "      <td>p101184</td>\n",
       "      <td>120</td>\n",
       "      <td>2014/15</td>\n",
       "    </tr>\n",
       "    <tr>\n",
       "      <th>1</th>\n",
       "      <td>p101184</td>\n",
       "      <td>120</td>\n",
       "      <td>2015/16</td>\n",
       "    </tr>\n",
       "    <tr>\n",
       "      <th>2</th>\n",
       "      <td>p101184</td>\n",
       "      <td>120</td>\n",
       "      <td>2016/17</td>\n",
       "    </tr>\n",
       "    <tr>\n",
       "      <th>3</th>\n",
       "      <td>p101184</td>\n",
       "      <td>120</td>\n",
       "      <td>2017/18</td>\n",
       "    </tr>\n",
       "    <tr>\n",
       "      <th>4</th>\n",
       "      <td>p101184</td>\n",
       "      <td>120</td>\n",
       "      <td>2018/19</td>\n",
       "    </tr>\n",
       "  </tbody>\n",
       "</table>\n",
       "</div>"
      ],
      "text/plain": [
       "  player_id  club_id   season\n",
       "0   p101184      120  2014/15\n",
       "1   p101184      120  2015/16\n",
       "2   p101184      120  2016/17\n",
       "3   p101184      120  2017/18\n",
       "4   p101184      120  2018/19"
      ]
     },
     "execution_count": 62,
     "metadata": {},
     "output_type": "execute_result"
    }
   ],
   "source": [
    "df_player_club.head()"
   ]
  },
  {
   "attachments": {},
   "cell_type": "markdown",
   "metadata": {},
   "source": [
    "##### Player Performance"
   ]
  },
  {
   "cell_type": "code",
   "execution_count": 63,
   "metadata": {},
   "outputs": [
    {
     "data": {
      "text/plain": [
       "(51834, 5)"
      ]
     },
     "execution_count": 63,
     "metadata": {},
     "output_type": "execute_result"
    }
   ],
   "source": [
    "df_player_performance.shape"
   ]
  },
  {
   "cell_type": "code",
   "execution_count": 64,
   "metadata": {},
   "outputs": [
    {
     "data": {
      "text/html": [
       "<div>\n",
       "<style scoped>\n",
       "    .dataframe tbody tr th:only-of-type {\n",
       "        vertical-align: middle;\n",
       "    }\n",
       "\n",
       "    .dataframe tbody tr th {\n",
       "        vertical-align: top;\n",
       "    }\n",
       "\n",
       "    .dataframe thead th {\n",
       "        text-align: right;\n",
       "    }\n",
       "</style>\n",
       "<table border=\"1\" class=\"dataframe\">\n",
       "  <thead>\n",
       "    <tr style=\"text-align: right;\">\n",
       "      <th></th>\n",
       "      <th>player_performance_id</th>\n",
       "      <th>player_id</th>\n",
       "      <th>match_id</th>\n",
       "      <th>type_of_stat</th>\n",
       "      <th>minute</th>\n",
       "    </tr>\n",
       "  </thead>\n",
       "  <tbody>\n",
       "    <tr>\n",
       "      <th>0</th>\n",
       "      <td>1</td>\n",
       "      <td>p1190</td>\n",
       "      <td>461</td>\n",
       "      <td>1</td>\n",
       "      <td>52</td>\n",
       "    </tr>\n",
       "    <tr>\n",
       "      <th>1</th>\n",
       "      <td>2</td>\n",
       "      <td>p520</td>\n",
       "      <td>461</td>\n",
       "      <td>1</td>\n",
       "      <td>39</td>\n",
       "    </tr>\n",
       "    <tr>\n",
       "      <th>2</th>\n",
       "      <td>3</td>\n",
       "      <td>p16965</td>\n",
       "      <td>461</td>\n",
       "      <td>1</td>\n",
       "      <td>46</td>\n",
       "    </tr>\n",
       "    <tr>\n",
       "      <th>3</th>\n",
       "      <td>4</td>\n",
       "      <td>p16965</td>\n",
       "      <td>461</td>\n",
       "      <td>1</td>\n",
       "      <td>78</td>\n",
       "    </tr>\n",
       "    <tr>\n",
       "      <th>4</th>\n",
       "      <td>5</td>\n",
       "      <td>p8889</td>\n",
       "      <td>461</td>\n",
       "      <td>3</td>\n",
       "      <td>52</td>\n",
       "    </tr>\n",
       "  </tbody>\n",
       "</table>\n",
       "</div>"
      ],
      "text/plain": [
       "   player_performance_id player_id  match_id  type_of_stat minute\n",
       "0                      1     p1190       461             1     52\n",
       "1                      2      p520       461             1     39\n",
       "2                      3    p16965       461             1     46\n",
       "3                      4    p16965       461             1     78\n",
       "4                      5     p8889       461             3     52"
      ]
     },
     "execution_count": 64,
     "metadata": {},
     "output_type": "execute_result"
    }
   ],
   "source": [
    "df_player_performance.head()"
   ]
  },
  {
   "attachments": {},
   "cell_type": "markdown",
   "metadata": {},
   "source": [
    "* Check Duplicates"
   ]
  },
  {
   "cell_type": "code",
   "execution_count": 65,
   "metadata": {},
   "outputs": [
    {
     "data": {
      "text/plain": [
       "0"
      ]
     },
     "execution_count": 65,
     "metadata": {},
     "output_type": "execute_result"
    }
   ],
   "source": [
    "df_player_performance.duplicated().sum()"
   ]
  },
  {
   "attachments": {},
   "cell_type": "markdown",
   "metadata": {},
   "source": [
    "* Check Nulls"
   ]
  },
  {
   "cell_type": "code",
   "execution_count": 66,
   "metadata": {},
   "outputs": [
    {
     "data": {
      "text/plain": [
       "player_performance_id    0\n",
       "player_id                0\n",
       "match_id                 0\n",
       "type_of_stat             0\n",
       "minute                   3\n",
       "dtype: int64"
      ]
     },
     "execution_count": 66,
     "metadata": {},
     "output_type": "execute_result"
    }
   ],
   "source": [
    "df_player_performance = df_player_performance.replace({'Null': np.nan,\n",
    "                                                       '\\\\N': np.nan})\n",
    "df_player_performance.isna().sum()"
   ]
  },
  {
   "attachments": {},
   "cell_type": "markdown",
   "metadata": {},
   "source": [
    "* Replace `type_of_stat` values"
   ]
  },
  {
   "cell_type": "code",
   "execution_count": 67,
   "metadata": {},
   "outputs": [
    {
     "data": {
      "text/html": [
       "<div>\n",
       "<style scoped>\n",
       "    .dataframe tbody tr th:only-of-type {\n",
       "        vertical-align: middle;\n",
       "    }\n",
       "\n",
       "    .dataframe tbody tr th {\n",
       "        vertical-align: top;\n",
       "    }\n",
       "\n",
       "    .dataframe thead th {\n",
       "        text-align: right;\n",
       "    }\n",
       "</style>\n",
       "<table border=\"1\" class=\"dataframe\">\n",
       "  <thead>\n",
       "    <tr style=\"text-align: right;\">\n",
       "      <th></th>\n",
       "      <th>player_performance_id</th>\n",
       "      <th>player_id</th>\n",
       "      <th>match_id</th>\n",
       "      <th>type_of_stat</th>\n",
       "      <th>minute</th>\n",
       "    </tr>\n",
       "  </thead>\n",
       "  <tbody>\n",
       "    <tr>\n",
       "      <th>0</th>\n",
       "      <td>1</td>\n",
       "      <td>p1190</td>\n",
       "      <td>461</td>\n",
       "      <td>goal</td>\n",
       "      <td>52</td>\n",
       "    </tr>\n",
       "    <tr>\n",
       "      <th>1</th>\n",
       "      <td>2</td>\n",
       "      <td>p520</td>\n",
       "      <td>461</td>\n",
       "      <td>goal</td>\n",
       "      <td>39</td>\n",
       "    </tr>\n",
       "    <tr>\n",
       "      <th>2</th>\n",
       "      <td>3</td>\n",
       "      <td>p16965</td>\n",
       "      <td>461</td>\n",
       "      <td>goal</td>\n",
       "      <td>46</td>\n",
       "    </tr>\n",
       "    <tr>\n",
       "      <th>3</th>\n",
       "      <td>4</td>\n",
       "      <td>p16965</td>\n",
       "      <td>461</td>\n",
       "      <td>goal</td>\n",
       "      <td>78</td>\n",
       "    </tr>\n",
       "    <tr>\n",
       "      <th>4</th>\n",
       "      <td>5</td>\n",
       "      <td>p8889</td>\n",
       "      <td>461</td>\n",
       "      <td>assist</td>\n",
       "      <td>52</td>\n",
       "    </tr>\n",
       "  </tbody>\n",
       "</table>\n",
       "</div>"
      ],
      "text/plain": [
       "   player_performance_id player_id  match_id type_of_stat minute\n",
       "0                      1     p1190       461         goal     52\n",
       "1                      2      p520       461         goal     39\n",
       "2                      3    p16965       461         goal     46\n",
       "3                      4    p16965       461         goal     78\n",
       "4                      5     p8889       461       assist     52"
      ]
     },
     "execution_count": 67,
     "metadata": {},
     "output_type": "execute_result"
    }
   ],
   "source": [
    "df_player_performance['type_of_stat'] = df_player_performance['type_of_stat'].replace({1: 'goal', \n",
    "                                                                                       2: 'goal (by penalty)', \n",
    "                                                                                       3: 'assist', \n",
    "                                                                                       4: 'own goal', \n",
    "                                                                                       5: 'red card', \n",
    "                                                                                       6: 'Second Yellow Card (and/or Red'\n",
    "                                                                                       })\n",
    "\n",
    "df_player_performance.head()"
   ]
  },
  {
   "attachments": {},
   "cell_type": "markdown",
   "metadata": {},
   "source": [
    "* As we see in the cell below, all NaN values of `minute` have the same `match_id`. So, we can `google` it!"
   ]
  },
  {
   "cell_type": "code",
   "execution_count": 68,
   "metadata": {},
   "outputs": [
    {
     "data": {
      "text/html": [
       "<div>\n",
       "<style scoped>\n",
       "    .dataframe tbody tr th:only-of-type {\n",
       "        vertical-align: middle;\n",
       "    }\n",
       "\n",
       "    .dataframe tbody tr th {\n",
       "        vertical-align: top;\n",
       "    }\n",
       "\n",
       "    .dataframe thead th {\n",
       "        text-align: right;\n",
       "    }\n",
       "</style>\n",
       "<table border=\"1\" class=\"dataframe\">\n",
       "  <thead>\n",
       "    <tr style=\"text-align: right;\">\n",
       "      <th></th>\n",
       "      <th>player_performance_id</th>\n",
       "      <th>player_id</th>\n",
       "      <th>match_id</th>\n",
       "      <th>type_of_stat</th>\n",
       "      <th>minute</th>\n",
       "    </tr>\n",
       "  </thead>\n",
       "  <tbody>\n",
       "    <tr>\n",
       "      <th>17106</th>\n",
       "      <td>17112</td>\n",
       "      <td>p1045</td>\n",
       "      <td>3956</td>\n",
       "      <td>goal</td>\n",
       "      <td>NaN</td>\n",
       "    </tr>\n",
       "    <tr>\n",
       "      <th>17107</th>\n",
       "      <td>17113</td>\n",
       "      <td>p1256</td>\n",
       "      <td>3956</td>\n",
       "      <td>goal</td>\n",
       "      <td>NaN</td>\n",
       "    </tr>\n",
       "    <tr>\n",
       "      <th>17108</th>\n",
       "      <td>17114</td>\n",
       "      <td>p1820</td>\n",
       "      <td>3956</td>\n",
       "      <td>goal</td>\n",
       "      <td>NaN</td>\n",
       "    </tr>\n",
       "  </tbody>\n",
       "</table>\n",
       "</div>"
      ],
      "text/plain": [
       "       player_performance_id player_id  match_id type_of_stat minute\n",
       "17106                  17112     p1045      3956         goal    NaN\n",
       "17107                  17113     p1256      3956         goal    NaN\n",
       "17108                  17114     p1820      3956         goal    NaN"
      ]
     },
     "execution_count": 68,
     "metadata": {},
     "output_type": "execute_result"
    }
   ],
   "source": [
    "df_validate_player_performance = df_player_performance[df_player_performance.isna().any(axis=1)].copy()\n",
    "df_validate_player_performance"
   ]
  },
  {
   "attachments": {},
   "cell_type": "markdown",
   "metadata": {},
   "source": [
    "Get match details"
   ]
  },
  {
   "cell_type": "code",
   "execution_count": 69,
   "metadata": {},
   "outputs": [
    {
     "data": {
      "text/html": [
       "<div>\n",
       "<style scoped>\n",
       "    .dataframe tbody tr th:only-of-type {\n",
       "        vertical-align: middle;\n",
       "    }\n",
       "\n",
       "    .dataframe tbody tr th {\n",
       "        vertical-align: top;\n",
       "    }\n",
       "\n",
       "    .dataframe thead th {\n",
       "        text-align: right;\n",
       "    }\n",
       "</style>\n",
       "<table border=\"1\" class=\"dataframe\">\n",
       "  <thead>\n",
       "    <tr style=\"text-align: right;\">\n",
       "      <th></th>\n",
       "      <th>home_team_id</th>\n",
       "      <th>away_team_id</th>\n",
       "      <th>home_team_goals</th>\n",
       "      <th>away_team_goals</th>\n",
       "      <th>match_date</th>\n",
       "      <th>matchweek</th>\n",
       "      <th>referee</th>\n",
       "      <th>stadium_id</th>\n",
       "      <th>season</th>\n",
       "    </tr>\n",
       "  </thead>\n",
       "  <tbody>\n",
       "    <tr>\n",
       "      <th>3955</th>\n",
       "      <td>124</td>\n",
       "      <td>142</td>\n",
       "      <td>2</td>\n",
       "      <td>1</td>\n",
       "      <td>2002-03-13</td>\n",
       "      <td>27</td>\n",
       "      <td>Phil Dowd</td>\n",
       "      <td>137</td>\n",
       "      <td>2001/02</td>\n",
       "    </tr>\n",
       "  </tbody>\n",
       "</table>\n",
       "</div>"
      ],
      "text/plain": [
       "      home_team_id  away_team_id  home_team_goals  away_team_goals match_date  \\\n",
       "3955           124           142                2                1 2002-03-13   \n",
       "\n",
       "     matchweek    referee  stadium_id   season  \n",
       "3955        27  Phil Dowd         137  2001/02  "
      ]
     },
     "execution_count": 69,
     "metadata": {},
     "output_type": "execute_result"
    }
   ],
   "source": [
    "df_match_details = df_match[df_match['match_id'].isin([3956])].iloc[:, 1:]\n",
    "df_match_details"
   ]
  },
  {
   "attachments": {},
   "cell_type": "markdown",
   "metadata": {},
   "source": [
    "Get club names"
   ]
  },
  {
   "cell_type": "code",
   "execution_count": 70,
   "metadata": {},
   "outputs": [
    {
     "data": {
      "text/html": [
       "<div>\n",
       "<style scoped>\n",
       "    .dataframe tbody tr th:only-of-type {\n",
       "        vertical-align: middle;\n",
       "    }\n",
       "\n",
       "    .dataframe tbody tr th {\n",
       "        vertical-align: top;\n",
       "    }\n",
       "\n",
       "    .dataframe thead th {\n",
       "        text-align: right;\n",
       "    }\n",
       "</style>\n",
       "<table border=\"1\" class=\"dataframe\">\n",
       "  <thead>\n",
       "    <tr style=\"text-align: right;\">\n",
       "      <th></th>\n",
       "      <th>home_team</th>\n",
       "      <th>away_team</th>\n",
       "      <th>home_team_goals</th>\n",
       "      <th>away_team_goals</th>\n",
       "      <th>match_date</th>\n",
       "      <th>matchweek</th>\n",
       "      <th>referee</th>\n",
       "      <th>stadium_id</th>\n",
       "      <th>season</th>\n",
       "    </tr>\n",
       "  </thead>\n",
       "  <tbody>\n",
       "    <tr>\n",
       "      <th>3955</th>\n",
       "      <td>Blackburn Rovers</td>\n",
       "      <td>Ipswich Town</td>\n",
       "      <td>2</td>\n",
       "      <td>1</td>\n",
       "      <td>2002-03-13</td>\n",
       "      <td>27</td>\n",
       "      <td>Phil Dowd</td>\n",
       "      <td>137</td>\n",
       "      <td>2001/02</td>\n",
       "    </tr>\n",
       "  </tbody>\n",
       "</table>\n",
       "</div>"
      ],
      "text/plain": [
       "             home_team     away_team  home_team_goals  away_team_goals  \\\n",
       "3955  Blackburn Rovers  Ipswich Town                2                1   \n",
       "\n",
       "     match_date matchweek    referee  stadium_id   season  \n",
       "3955 2002-03-13        27  Phil Dowd         137  2001/02  "
      ]
     },
     "execution_count": 70,
     "metadata": {},
     "output_type": "execute_result"
    }
   ],
   "source": [
    "df_match_details[['home_team_id', 'away_team_id']] = df_club[df_club['club_id'].isin(df_match_details[['home_team_id', 'away_team_id']].values[0])]['club_name'].values\n",
    "df_match_details = df_match_details.rename(columns={'home_team_id': 'home_team',\n",
    "                                                    'away_team_id': 'away_team'})\n",
    "df_match_details"
   ]
  },
  {
   "cell_type": "code",
   "execution_count": 71,
   "metadata": {},
   "outputs": [
    {
     "data": {
      "text/html": [
       "<div>\n",
       "<style scoped>\n",
       "    .dataframe tbody tr th:only-of-type {\n",
       "        vertical-align: middle;\n",
       "    }\n",
       "\n",
       "    .dataframe tbody tr th {\n",
       "        vertical-align: top;\n",
       "    }\n",
       "\n",
       "    .dataframe thead th {\n",
       "        text-align: right;\n",
       "    }\n",
       "</style>\n",
       "<table border=\"1\" class=\"dataframe\">\n",
       "  <thead>\n",
       "    <tr style=\"text-align: right;\">\n",
       "      <th></th>\n",
       "      <th>player_performance_id</th>\n",
       "      <th>player_id</th>\n",
       "      <th>match_id</th>\n",
       "      <th>type_of_stat</th>\n",
       "      <th>minute</th>\n",
       "      <th>home_team</th>\n",
       "      <th>away_team</th>\n",
       "      <th>home_team_goals</th>\n",
       "      <th>away_team_goals</th>\n",
       "      <th>match_date</th>\n",
       "      <th>matchweek</th>\n",
       "      <th>referee</th>\n",
       "      <th>stadium_id</th>\n",
       "      <th>season</th>\n",
       "    </tr>\n",
       "  </thead>\n",
       "  <tbody>\n",
       "    <tr>\n",
       "      <th>17106</th>\n",
       "      <td>17112</td>\n",
       "      <td>p1045</td>\n",
       "      <td>3956</td>\n",
       "      <td>goal</td>\n",
       "      <td>NaN</td>\n",
       "      <td>Blackburn Rovers</td>\n",
       "      <td>Ipswich Town</td>\n",
       "      <td>2</td>\n",
       "      <td>1</td>\n",
       "      <td>2002-03-13</td>\n",
       "      <td>27</td>\n",
       "      <td>Phil Dowd</td>\n",
       "      <td>137</td>\n",
       "      <td>2001/02</td>\n",
       "    </tr>\n",
       "    <tr>\n",
       "      <th>17107</th>\n",
       "      <td>17113</td>\n",
       "      <td>p1256</td>\n",
       "      <td>3956</td>\n",
       "      <td>goal</td>\n",
       "      <td>NaN</td>\n",
       "      <td>Blackburn Rovers</td>\n",
       "      <td>Ipswich Town</td>\n",
       "      <td>2</td>\n",
       "      <td>1</td>\n",
       "      <td>2002-03-13</td>\n",
       "      <td>27</td>\n",
       "      <td>Phil Dowd</td>\n",
       "      <td>137</td>\n",
       "      <td>2001/02</td>\n",
       "    </tr>\n",
       "    <tr>\n",
       "      <th>17108</th>\n",
       "      <td>17114</td>\n",
       "      <td>p1820</td>\n",
       "      <td>3956</td>\n",
       "      <td>goal</td>\n",
       "      <td>NaN</td>\n",
       "      <td>Blackburn Rovers</td>\n",
       "      <td>Ipswich Town</td>\n",
       "      <td>2</td>\n",
       "      <td>1</td>\n",
       "      <td>2002-03-13</td>\n",
       "      <td>27</td>\n",
       "      <td>Phil Dowd</td>\n",
       "      <td>137</td>\n",
       "      <td>2001/02</td>\n",
       "    </tr>\n",
       "  </tbody>\n",
       "</table>\n",
       "</div>"
      ],
      "text/plain": [
       "       player_performance_id player_id  match_id type_of_stat minute  \\\n",
       "17106                  17112     p1045      3956         goal    NaN   \n",
       "17107                  17113     p1256      3956         goal    NaN   \n",
       "17108                  17114     p1820      3956         goal    NaN   \n",
       "\n",
       "              home_team     away_team home_team_goals away_team_goals  \\\n",
       "17106  Blackburn Rovers  Ipswich Town               2               1   \n",
       "17107  Blackburn Rovers  Ipswich Town               2               1   \n",
       "17108  Blackburn Rovers  Ipswich Town               2               1   \n",
       "\n",
       "      match_date matchweek    referee stadium_id   season  \n",
       "17106 2002-03-13        27  Phil Dowd        137  2001/02  \n",
       "17107 2002-03-13        27  Phil Dowd        137  2001/02  \n",
       "17108 2002-03-13        27  Phil Dowd        137  2001/02  "
      ]
     },
     "execution_count": 71,
     "metadata": {},
     "output_type": "execute_result"
    }
   ],
   "source": [
    "df_validate_player_performance[df_match_details.columns] = df_match_details.values.tolist()*3\n",
    "df_validate_player_performance"
   ]
  },
  {
   "attachments": {},
   "cell_type": "markdown",
   "metadata": {},
   "source": [
    "Get players names"
   ]
  },
  {
   "cell_type": "code",
   "execution_count": 72,
   "metadata": {},
   "outputs": [
    {
     "data": {
      "text/html": [
       "<div>\n",
       "<style scoped>\n",
       "    .dataframe tbody tr th:only-of-type {\n",
       "        vertical-align: middle;\n",
       "    }\n",
       "\n",
       "    .dataframe tbody tr th {\n",
       "        vertical-align: top;\n",
       "    }\n",
       "\n",
       "    .dataframe thead th {\n",
       "        text-align: right;\n",
       "    }\n",
       "</style>\n",
       "<table border=\"1\" class=\"dataframe\">\n",
       "  <thead>\n",
       "    <tr style=\"text-align: right;\">\n",
       "      <th></th>\n",
       "      <th>player_performance_id</th>\n",
       "      <th>player_name</th>\n",
       "      <th>match_id</th>\n",
       "      <th>type_of_stat</th>\n",
       "      <th>minute</th>\n",
       "      <th>home_team</th>\n",
       "      <th>away_team</th>\n",
       "      <th>home_team_goals</th>\n",
       "      <th>away_team_goals</th>\n",
       "      <th>match_date</th>\n",
       "      <th>matchweek</th>\n",
       "      <th>referee</th>\n",
       "      <th>stadium_id</th>\n",
       "      <th>season</th>\n",
       "      <th>home_team_id</th>\n",
       "      <th>away_team_id</th>\n",
       "    </tr>\n",
       "  </thead>\n",
       "  <tbody>\n",
       "    <tr>\n",
       "      <th>17106</th>\n",
       "      <td>17112</td>\n",
       "      <td>Marcus Stewart</td>\n",
       "      <td>3956</td>\n",
       "      <td>goal</td>\n",
       "      <td>NaN</td>\n",
       "      <td>Blackburn Rovers</td>\n",
       "      <td>Ipswich Town</td>\n",
       "      <td>2</td>\n",
       "      <td>1</td>\n",
       "      <td>2002-03-13</td>\n",
       "      <td>27</td>\n",
       "      <td>Phil Dowd</td>\n",
       "      <td>137</td>\n",
       "      <td>2001/02</td>\n",
       "      <td>124</td>\n",
       "      <td>142</td>\n",
       "    </tr>\n",
       "    <tr>\n",
       "      <th>17107</th>\n",
       "      <td>17113</td>\n",
       "      <td>Damien Duff</td>\n",
       "      <td>3956</td>\n",
       "      <td>goal</td>\n",
       "      <td>NaN</td>\n",
       "      <td>Blackburn Rovers</td>\n",
       "      <td>Ipswich Town</td>\n",
       "      <td>2</td>\n",
       "      <td>1</td>\n",
       "      <td>2002-03-13</td>\n",
       "      <td>27</td>\n",
       "      <td>Phil Dowd</td>\n",
       "      <td>137</td>\n",
       "      <td>2001/02</td>\n",
       "      <td>124</td>\n",
       "      <td>142</td>\n",
       "    </tr>\n",
       "    <tr>\n",
       "      <th>17108</th>\n",
       "      <td>17114</td>\n",
       "      <td>Andrew Cole</td>\n",
       "      <td>3956</td>\n",
       "      <td>goal</td>\n",
       "      <td>NaN</td>\n",
       "      <td>Blackburn Rovers</td>\n",
       "      <td>Ipswich Town</td>\n",
       "      <td>2</td>\n",
       "      <td>1</td>\n",
       "      <td>2002-03-13</td>\n",
       "      <td>27</td>\n",
       "      <td>Phil Dowd</td>\n",
       "      <td>137</td>\n",
       "      <td>2001/02</td>\n",
       "      <td>124</td>\n",
       "      <td>142</td>\n",
       "    </tr>\n",
       "  </tbody>\n",
       "</table>\n",
       "</div>"
      ],
      "text/plain": [
       "       player_performance_id     player_name  match_id type_of_stat minute  \\\n",
       "17106                  17112  Marcus Stewart      3956         goal    NaN   \n",
       "17107                  17113     Damien Duff      3956         goal    NaN   \n",
       "17108                  17114     Andrew Cole      3956         goal    NaN   \n",
       "\n",
       "              home_team     away_team home_team_goals away_team_goals  \\\n",
       "17106  Blackburn Rovers  Ipswich Town               2               1   \n",
       "17107  Blackburn Rovers  Ipswich Town               2               1   \n",
       "17108  Blackburn Rovers  Ipswich Town               2               1   \n",
       "\n",
       "      match_date matchweek    referee stadium_id   season home_team_id  \\\n",
       "17106 2002-03-13        27  Phil Dowd        137  2001/02          124   \n",
       "17107 2002-03-13        27  Phil Dowd        137  2001/02          124   \n",
       "17108 2002-03-13        27  Phil Dowd        137  2001/02          124   \n",
       "\n",
       "      away_team_id  \n",
       "17106          142  \n",
       "17107          142  \n",
       "17108          142  "
      ]
     },
     "execution_count": 72,
     "metadata": {},
     "output_type": "execute_result"
    }
   ],
   "source": [
    "df_validate_player_performance['player_id'] = df_player[df_player['player_id'].isin(df_validate_player_performance['player_id'])]['player_name'].values\n",
    "df_validate_player_performance[df_match.columns[1:]] = df_match[df_match['match_id'].isin([3956])].iloc[:, 1:].values.tolist()*len(df_validate_player_performance)\n",
    "df_validate_player_performance = df_validate_player_performance.rename(columns={'player_id': 'player_name'})\n",
    "df_validate_player_performance"
   ]
  },
  {
   "attachments": {},
   "cell_type": "markdown",
   "metadata": {},
   "source": [
    "Now let's fill minute with values: 55, 20, 43 respectively.<br>\n",
    "\n",
    "source: https://www.besoccer.com/match/blackburn-rovers-fc/ipswich-town-fc/2002955"
   ]
  },
  {
   "cell_type": "code",
   "execution_count": 73,
   "metadata": {},
   "outputs": [],
   "source": [
    "df_validate_player_performance['minute'] = ['55', '20', '43']"
   ]
  },
  {
   "cell_type": "code",
   "execution_count": 74,
   "metadata": {},
   "outputs": [],
   "source": [
    "df_player_performance.loc[df_player_performance.isna().any(axis=1), 'minute'] = ['55', '20', '43']"
   ]
  },
  {
   "cell_type": "code",
   "execution_count": 75,
   "metadata": {},
   "outputs": [
    {
     "data": {
      "text/plain": [
       "player_performance_id    0\n",
       "player_id                0\n",
       "match_id                 0\n",
       "type_of_stat             0\n",
       "minute                   0\n",
       "dtype: int64"
      ]
     },
     "execution_count": 75,
     "metadata": {},
     "output_type": "execute_result"
    }
   ],
   "source": [
    "df_player_performance.isna().sum()"
   ]
  },
  {
   "cell_type": "code",
   "execution_count": 76,
   "metadata": {},
   "outputs": [],
   "source": [
    "del df_validate_player_performance\n",
    "del df_match_details"
   ]
  },
  {
   "attachments": {},
   "cell_type": "markdown",
   "metadata": {},
   "source": [
    "##### Player Stats"
   ]
  },
  {
   "cell_type": "code",
   "execution_count": 77,
   "metadata": {},
   "outputs": [
    {
     "data": {
      "text/plain": [
       "(356465, 8)"
      ]
     },
     "execution_count": 77,
     "metadata": {},
     "output_type": "execute_result"
    }
   ],
   "source": [
    "df_player_stats.shape"
   ]
  },
  {
   "cell_type": "code",
   "execution_count": 78,
   "metadata": {},
   "outputs": [
    {
     "data": {
      "text/html": [
       "<div>\n",
       "<style scoped>\n",
       "    .dataframe tbody tr th:only-of-type {\n",
       "        vertical-align: middle;\n",
       "    }\n",
       "\n",
       "    .dataframe tbody tr th {\n",
       "        vertical-align: top;\n",
       "    }\n",
       "\n",
       "    .dataframe thead th {\n",
       "        text-align: right;\n",
       "    }\n",
       "</style>\n",
       "<table border=\"1\" class=\"dataframe\">\n",
       "  <thead>\n",
       "    <tr style=\"text-align: right;\">\n",
       "      <th></th>\n",
       "      <th>player_id</th>\n",
       "      <th>match_id</th>\n",
       "      <th>is_in_starting_11</th>\n",
       "      <th>substitution_on</th>\n",
       "      <th>substitution_off</th>\n",
       "      <th>yellow_card</th>\n",
       "      <th>red_card</th>\n",
       "      <th>is_home_side</th>\n",
       "    </tr>\n",
       "  </thead>\n",
       "  <tbody>\n",
       "    <tr>\n",
       "      <th>0</th>\n",
       "      <td>p1</td>\n",
       "      <td>4</td>\n",
       "      <td>1</td>\n",
       "      <td>Null</td>\n",
       "      <td>Null</td>\n",
       "      <td>Null</td>\n",
       "      <td>Null</td>\n",
       "      <td>0</td>\n",
       "    </tr>\n",
       "    <tr>\n",
       "      <th>1</th>\n",
       "      <td>p1</td>\n",
       "      <td>12</td>\n",
       "      <td>1</td>\n",
       "      <td>Null</td>\n",
       "      <td>Null</td>\n",
       "      <td>Null</td>\n",
       "      <td>Null</td>\n",
       "      <td>1</td>\n",
       "    </tr>\n",
       "    <tr>\n",
       "      <th>2</th>\n",
       "      <td>p1</td>\n",
       "      <td>24</td>\n",
       "      <td>1</td>\n",
       "      <td>Null</td>\n",
       "      <td>Null</td>\n",
       "      <td>Null</td>\n",
       "      <td>Null</td>\n",
       "      <td>1</td>\n",
       "    </tr>\n",
       "    <tr>\n",
       "      <th>3</th>\n",
       "      <td>p1</td>\n",
       "      <td>41</td>\n",
       "      <td>1</td>\n",
       "      <td>Null</td>\n",
       "      <td>Null</td>\n",
       "      <td>Null</td>\n",
       "      <td>Null</td>\n",
       "      <td>0</td>\n",
       "    </tr>\n",
       "    <tr>\n",
       "      <th>4</th>\n",
       "      <td>p1</td>\n",
       "      <td>46</td>\n",
       "      <td>1</td>\n",
       "      <td>Null</td>\n",
       "      <td>83'</td>\n",
       "      <td>True</td>\n",
       "      <td>Null</td>\n",
       "      <td>0</td>\n",
       "    </tr>\n",
       "  </tbody>\n",
       "</table>\n",
       "</div>"
      ],
      "text/plain": [
       "  player_id  match_id  is_in_starting_11 substitution_on substitution_off  \\\n",
       "0        p1         4                  1            Null             Null   \n",
       "1        p1        12                  1            Null             Null   \n",
       "2        p1        24                  1            Null             Null   \n",
       "3        p1        41                  1            Null             Null   \n",
       "4        p1        46                  1            Null              83'   \n",
       "\n",
       "  yellow_card red_card  is_home_side  \n",
       "0        Null     Null             0  \n",
       "1        Null     Null             1  \n",
       "2        Null     Null             1  \n",
       "3        Null     Null             0  \n",
       "4        True     Null             0  "
      ]
     },
     "execution_count": 78,
     "metadata": {},
     "output_type": "execute_result"
    }
   ],
   "source": [
    "df_player_stats.head()"
   ]
  },
  {
   "attachments": {},
   "cell_type": "markdown",
   "metadata": {},
   "source": [
    "* Check Duplicates"
   ]
  },
  {
   "cell_type": "code",
   "execution_count": 79,
   "metadata": {},
   "outputs": [
    {
     "data": {
      "text/plain": [
       "0"
      ]
     },
     "execution_count": 79,
     "metadata": {},
     "output_type": "execute_result"
    }
   ],
   "source": [
    "df_player_stats.duplicated().sum()"
   ]
  },
  {
   "attachments": {},
   "cell_type": "markdown",
   "metadata": {},
   "source": [
    "* Check Nulls"
   ]
  },
  {
   "cell_type": "code",
   "execution_count": 80,
   "metadata": {},
   "outputs": [
    {
     "data": {
      "text/plain": [
       "player_id                 0\n",
       "match_id                  0\n",
       "is_in_starting_11         0\n",
       "substitution_on      303613\n",
       "substitution_off     303578\n",
       "yellow_card          321323\n",
       "red_card             355139\n",
       "is_home_side              0\n",
       "dtype: int64"
      ]
     },
     "execution_count": 80,
     "metadata": {},
     "output_type": "execute_result"
    }
   ],
   "source": [
    "df_player_stats = df_player_stats.replace({'Null': np.nan,\n",
    "                                           '\\\\N': np.nan})\n",
    "df_player_stats.isna().sum()"
   ]
  },
  {
   "attachments": {},
   "cell_type": "markdown",
   "metadata": {},
   "source": [
    "* Change `yellow_card` & `red_card` to 0, 1 instead of NaN, 'True' respectively."
   ]
  },
  {
   "cell_type": "code",
   "execution_count": 81,
   "metadata": {},
   "outputs": [],
   "source": [
    "df_player_stats[['yellow_card', 'red_card']] = df_player_stats[['yellow_card', 'red_card']].replace({'True': 1,\n",
    "                                                                                                     np.nan: 0}).astype('int8')"
   ]
  },
  {
   "attachments": {},
   "cell_type": "markdown",
   "metadata": {},
   "source": [
    "Note that: `substitution_off` Can be null if the player is never substituted off <br>\n",
    "           `substitution_on` Can be null if the player is in the starting 11 or never substituted on"
   ]
  },
  {
   "attachments": {},
   "cell_type": "markdown",
   "metadata": {},
   "source": [
    "* As it's not possible that player has `is_in_starting_11` value = 1 and `substitution_on` != Null at the same time, So in these cases we'll reassign `is_in_starting_11` value to 0"
   ]
  },
  {
   "cell_type": "code",
   "execution_count": 82,
   "metadata": {},
   "outputs": [
    {
     "data": {
      "text/html": [
       "<div>\n",
       "<style scoped>\n",
       "    .dataframe tbody tr th:only-of-type {\n",
       "        vertical-align: middle;\n",
       "    }\n",
       "\n",
       "    .dataframe tbody tr th {\n",
       "        vertical-align: top;\n",
       "    }\n",
       "\n",
       "    .dataframe thead th {\n",
       "        text-align: right;\n",
       "    }\n",
       "</style>\n",
       "<table border=\"1\" class=\"dataframe\">\n",
       "  <thead>\n",
       "    <tr style=\"text-align: right;\">\n",
       "      <th></th>\n",
       "      <th>player_id</th>\n",
       "      <th>match_id</th>\n",
       "      <th>is_in_starting_11</th>\n",
       "      <th>substitution_on</th>\n",
       "      <th>substitution_off</th>\n",
       "      <th>yellow_card</th>\n",
       "      <th>red_card</th>\n",
       "      <th>is_home_side</th>\n",
       "    </tr>\n",
       "  </thead>\n",
       "  <tbody>\n",
       "    <tr>\n",
       "      <th>4574</th>\n",
       "      <td>p10276</td>\n",
       "      <td>838</td>\n",
       "      <td>1</td>\n",
       "      <td>57'</td>\n",
       "      <td>NaN</td>\n",
       "      <td>0</td>\n",
       "      <td>0</td>\n",
       "      <td>0</td>\n",
       "    </tr>\n",
       "    <tr>\n",
       "      <th>26721</th>\n",
       "      <td>p1182</td>\n",
       "      <td>832</td>\n",
       "      <td>1</td>\n",
       "      <td>74'</td>\n",
       "      <td>NaN</td>\n",
       "      <td>0</td>\n",
       "      <td>0</td>\n",
       "      <td>1</td>\n",
       "    </tr>\n",
       "    <tr>\n",
       "      <th>47040</th>\n",
       "      <td>p1318</td>\n",
       "      <td>792</td>\n",
       "      <td>1</td>\n",
       "      <td>48'</td>\n",
       "      <td>NaN</td>\n",
       "      <td>0</td>\n",
       "      <td>0</td>\n",
       "      <td>0</td>\n",
       "    </tr>\n",
       "    <tr>\n",
       "      <th>78645</th>\n",
       "      <td>p1582</td>\n",
       "      <td>816</td>\n",
       "      <td>1</td>\n",
       "      <td>22'</td>\n",
       "      <td>NaN</td>\n",
       "      <td>0</td>\n",
       "      <td>0</td>\n",
       "      <td>0</td>\n",
       "    </tr>\n",
       "    <tr>\n",
       "      <th>78646</th>\n",
       "      <td>p1582</td>\n",
       "      <td>820</td>\n",
       "      <td>1</td>\n",
       "      <td>40'</td>\n",
       "      <td>NaN</td>\n",
       "      <td>0</td>\n",
       "      <td>0</td>\n",
       "      <td>1</td>\n",
       "    </tr>\n",
       "    <tr>\n",
       "      <th>78649</th>\n",
       "      <td>p1582</td>\n",
       "      <td>853</td>\n",
       "      <td>1</td>\n",
       "      <td>73'</td>\n",
       "      <td>NaN</td>\n",
       "      <td>0</td>\n",
       "      <td>0</td>\n",
       "      <td>1</td>\n",
       "    </tr>\n",
       "    <tr>\n",
       "      <th>81080</th>\n",
       "      <td>p1592</td>\n",
       "      <td>713</td>\n",
       "      <td>1</td>\n",
       "      <td>45'</td>\n",
       "      <td>NaN</td>\n",
       "      <td>0</td>\n",
       "      <td>0</td>\n",
       "      <td>1</td>\n",
       "    </tr>\n",
       "    <tr>\n",
       "      <th>205234</th>\n",
       "      <td>p2245</td>\n",
       "      <td>862</td>\n",
       "      <td>1</td>\n",
       "      <td>81'</td>\n",
       "      <td>NaN</td>\n",
       "      <td>0</td>\n",
       "      <td>0</td>\n",
       "      <td>0</td>\n",
       "    </tr>\n",
       "  </tbody>\n",
       "</table>\n",
       "</div>"
      ],
      "text/plain": [
       "       player_id  match_id  is_in_starting_11 substitution_on  \\\n",
       "4574      p10276       838                  1             57'   \n",
       "26721      p1182       832                  1             74'   \n",
       "47040      p1318       792                  1             48'   \n",
       "78645      p1582       816                  1             22'   \n",
       "78646      p1582       820                  1             40'   \n",
       "78649      p1582       853                  1             73'   \n",
       "81080      p1592       713                  1             45'   \n",
       "205234     p2245       862                  1             81'   \n",
       "\n",
       "       substitution_off  yellow_card  red_card  is_home_side  \n",
       "4574                NaN            0         0             0  \n",
       "26721               NaN            0         0             1  \n",
       "47040               NaN            0         0             0  \n",
       "78645               NaN            0         0             0  \n",
       "78646               NaN            0         0             1  \n",
       "78649               NaN            0         0             1  \n",
       "81080               NaN            0         0             1  \n",
       "205234              NaN            0         0             0  "
      ]
     },
     "execution_count": 82,
     "metadata": {},
     "output_type": "execute_result"
    }
   ],
   "source": [
    "df_player_stats[(df_player_stats['is_in_starting_11'] == 1) & (df_player_stats['substitution_on'].notna())]"
   ]
  },
  {
   "attachments": {},
   "cell_type": "markdown",
   "metadata": {},
   "source": [
    "* reassign `is_in_starting_11` value to 0 **(`NEED TO CHECK IT`)**"
   ]
  },
  {
   "cell_type": "code",
   "execution_count": 83,
   "metadata": {},
   "outputs": [],
   "source": [
    "# df_player_stats.loc[(df_player_stats['is_in_starting_11'] == 1) & (df_player_stats['substitution_on'].notna()), 'is_in_starting_11'] = 0"
   ]
  },
  {
   "attachments": {},
   "cell_type": "markdown",
   "metadata": {},
   "source": [
    "* Validate changes"
   ]
  },
  {
   "cell_type": "code",
   "execution_count": 84,
   "metadata": {},
   "outputs": [
    {
     "data": {
      "text/html": [
       "<div>\n",
       "<style scoped>\n",
       "    .dataframe tbody tr th:only-of-type {\n",
       "        vertical-align: middle;\n",
       "    }\n",
       "\n",
       "    .dataframe tbody tr th {\n",
       "        vertical-align: top;\n",
       "    }\n",
       "\n",
       "    .dataframe thead th {\n",
       "        text-align: right;\n",
       "    }\n",
       "</style>\n",
       "<table border=\"1\" class=\"dataframe\">\n",
       "  <thead>\n",
       "    <tr style=\"text-align: right;\">\n",
       "      <th></th>\n",
       "      <th>player_id</th>\n",
       "      <th>match_id</th>\n",
       "      <th>is_in_starting_11</th>\n",
       "      <th>substitution_on</th>\n",
       "      <th>substitution_off</th>\n",
       "      <th>yellow_card</th>\n",
       "      <th>red_card</th>\n",
       "      <th>is_home_side</th>\n",
       "    </tr>\n",
       "  </thead>\n",
       "  <tbody>\n",
       "    <tr>\n",
       "      <th>0</th>\n",
       "      <td>p1</td>\n",
       "      <td>4</td>\n",
       "      <td>1</td>\n",
       "      <td>NaN</td>\n",
       "      <td>NaN</td>\n",
       "      <td>0</td>\n",
       "      <td>0</td>\n",
       "      <td>0</td>\n",
       "    </tr>\n",
       "    <tr>\n",
       "      <th>1</th>\n",
       "      <td>p1</td>\n",
       "      <td>12</td>\n",
       "      <td>1</td>\n",
       "      <td>NaN</td>\n",
       "      <td>NaN</td>\n",
       "      <td>0</td>\n",
       "      <td>0</td>\n",
       "      <td>1</td>\n",
       "    </tr>\n",
       "    <tr>\n",
       "      <th>2</th>\n",
       "      <td>p1</td>\n",
       "      <td>24</td>\n",
       "      <td>1</td>\n",
       "      <td>NaN</td>\n",
       "      <td>NaN</td>\n",
       "      <td>0</td>\n",
       "      <td>0</td>\n",
       "      <td>1</td>\n",
       "    </tr>\n",
       "    <tr>\n",
       "      <th>3</th>\n",
       "      <td>p1</td>\n",
       "      <td>41</td>\n",
       "      <td>1</td>\n",
       "      <td>NaN</td>\n",
       "      <td>NaN</td>\n",
       "      <td>0</td>\n",
       "      <td>0</td>\n",
       "      <td>0</td>\n",
       "    </tr>\n",
       "    <tr>\n",
       "      <th>4</th>\n",
       "      <td>p1</td>\n",
       "      <td>46</td>\n",
       "      <td>1</td>\n",
       "      <td>NaN</td>\n",
       "      <td>83'</td>\n",
       "      <td>1</td>\n",
       "      <td>0</td>\n",
       "      <td>0</td>\n",
       "    </tr>\n",
       "    <tr>\n",
       "      <th>...</th>\n",
       "      <td>...</td>\n",
       "      <td>...</td>\n",
       "      <td>...</td>\n",
       "      <td>...</td>\n",
       "      <td>...</td>\n",
       "      <td>...</td>\n",
       "      <td>...</td>\n",
       "      <td>...</td>\n",
       "    </tr>\n",
       "    <tr>\n",
       "      <th>356440</th>\n",
       "      <td>p999</td>\n",
       "      <td>7112</td>\n",
       "      <td>1</td>\n",
       "      <td>NaN</td>\n",
       "      <td>NaN</td>\n",
       "      <td>0</td>\n",
       "      <td>0</td>\n",
       "      <td>0</td>\n",
       "    </tr>\n",
       "    <tr>\n",
       "      <th>356441</th>\n",
       "      <td>p999</td>\n",
       "      <td>7121</td>\n",
       "      <td>1</td>\n",
       "      <td>NaN</td>\n",
       "      <td>63'</td>\n",
       "      <td>0</td>\n",
       "      <td>0</td>\n",
       "      <td>1</td>\n",
       "    </tr>\n",
       "    <tr>\n",
       "      <th>356451</th>\n",
       "      <td>p999</td>\n",
       "      <td>7220</td>\n",
       "      <td>1</td>\n",
       "      <td>NaN</td>\n",
       "      <td>NaN</td>\n",
       "      <td>0</td>\n",
       "      <td>0</td>\n",
       "      <td>0</td>\n",
       "    </tr>\n",
       "    <tr>\n",
       "      <th>356456</th>\n",
       "      <td>p999</td>\n",
       "      <td>7271</td>\n",
       "      <td>1</td>\n",
       "      <td>NaN</td>\n",
       "      <td>NaN</td>\n",
       "      <td>1</td>\n",
       "      <td>0</td>\n",
       "      <td>0</td>\n",
       "    </tr>\n",
       "    <tr>\n",
       "      <th>356458</th>\n",
       "      <td>p999</td>\n",
       "      <td>7306</td>\n",
       "      <td>1</td>\n",
       "      <td>NaN</td>\n",
       "      <td>36'</td>\n",
       "      <td>0</td>\n",
       "      <td>0</td>\n",
       "      <td>0</td>\n",
       "    </tr>\n",
       "  </tbody>\n",
       "</table>\n",
       "<p>253162 rows × 8 columns</p>\n",
       "</div>"
      ],
      "text/plain": [
       "       player_id  match_id  is_in_starting_11 substitution_on  \\\n",
       "0             p1         4                  1             NaN   \n",
       "1             p1        12                  1             NaN   \n",
       "2             p1        24                  1             NaN   \n",
       "3             p1        41                  1             NaN   \n",
       "4             p1        46                  1             NaN   \n",
       "...          ...       ...                ...             ...   \n",
       "356440      p999      7112                  1             NaN   \n",
       "356441      p999      7121                  1             NaN   \n",
       "356451      p999      7220                  1             NaN   \n",
       "356456      p999      7271                  1             NaN   \n",
       "356458      p999      7306                  1             NaN   \n",
       "\n",
       "       substitution_off  yellow_card  red_card  is_home_side  \n",
       "0                   NaN            0         0             0  \n",
       "1                   NaN            0         0             1  \n",
       "2                   NaN            0         0             1  \n",
       "3                   NaN            0         0             0  \n",
       "4                   83'            1         0             0  \n",
       "...                 ...          ...       ...           ...  \n",
       "356440              NaN            0         0             0  \n",
       "356441              63'            0         0             1  \n",
       "356451              NaN            0         0             0  \n",
       "356456              NaN            1         0             0  \n",
       "356458              36'            0         0             0  \n",
       "\n",
       "[253162 rows x 8 columns]"
      ]
     },
     "execution_count": 84,
     "metadata": {},
     "output_type": "execute_result"
    }
   ],
   "source": [
    "df_player_stats[(df_player_stats['is_in_starting_11'] == 1) & (df_player_stats['substitution_on'] != np.nan)]"
   ]
  },
  {
   "attachments": {},
   "cell_type": "markdown",
   "metadata": {},
   "source": [
    "##### Stadium"
   ]
  },
  {
   "cell_type": "code",
   "execution_count": 85,
   "metadata": {},
   "outputs": [
    {
     "data": {
      "text/plain": [
       "(71, 9)"
      ]
     },
     "execution_count": 85,
     "metadata": {},
     "output_type": "execute_result"
    }
   ],
   "source": [
    "df_stadium.shape"
   ]
  },
  {
   "cell_type": "code",
   "execution_count": 86,
   "metadata": {},
   "outputs": [
    {
     "data": {
      "text/html": [
       "<div>\n",
       "<style scoped>\n",
       "    .dataframe tbody tr th:only-of-type {\n",
       "        vertical-align: middle;\n",
       "    }\n",
       "\n",
       "    .dataframe tbody tr th {\n",
       "        vertical-align: top;\n",
       "    }\n",
       "\n",
       "    .dataframe thead th {\n",
       "        text-align: right;\n",
       "    }\n",
       "</style>\n",
       "<table border=\"1\" class=\"dataframe\">\n",
       "  <thead>\n",
       "    <tr style=\"text-align: right;\">\n",
       "      <th></th>\n",
       "      <th>stadium_id</th>\n",
       "      <th>stadium_name</th>\n",
       "      <th>city</th>\n",
       "      <th>capacity</th>\n",
       "      <th>record_pl_attendance</th>\n",
       "      <th>address</th>\n",
       "      <th>pitch_size</th>\n",
       "      <th>built</th>\n",
       "      <th>phone</th>\n",
       "    </tr>\n",
       "  </thead>\n",
       "  <tbody>\n",
       "    <tr>\n",
       "      <th>0</th>\n",
       "      <td>133</td>\n",
       "      <td>Emirates Stadium</td>\n",
       "      <td>London</td>\n",
       "      <td>60260</td>\n",
       "      <td>60,161 v Manchester United (3 November 2007)</td>\n",
       "      <td>Highbury House, 75 Drayton Park, London, N5 1BU</td>\n",
       "      <td>105m x 68m</td>\n",
       "      <td>2006</td>\n",
       "      <td>+44 (0) 20 7619 5003</td>\n",
       "    </tr>\n",
       "    <tr>\n",
       "      <th>1</th>\n",
       "      <td>134</td>\n",
       "      <td>Villa Park</td>\n",
       "      <td>Birmingham</td>\n",
       "      <td>42682</td>\n",
       "      <td>Null</td>\n",
       "      <td>Villa Park, Trinity Road, Birmingham, B6 6HE</td>\n",
       "      <td>105m x 68m</td>\n",
       "      <td>1897</td>\n",
       "      <td>+44 (0)121 327 5353</td>\n",
       "    </tr>\n",
       "    <tr>\n",
       "      <th>2</th>\n",
       "      <td>135</td>\n",
       "      <td>Oakwell</td>\n",
       "      <td>Barnsley</td>\n",
       "      <td>23009</td>\n",
       "      <td>Null</td>\n",
       "      <td>Oakwell, Grove Street, Barnsley, S71 1ET</td>\n",
       "      <td>100m x 68m</td>\n",
       "      <td>1887</td>\n",
       "      <td>+44 (0)1226 211211</td>\n",
       "    </tr>\n",
       "    <tr>\n",
       "      <th>3</th>\n",
       "      <td>136</td>\n",
       "      <td>St. Andrew's Trillion Trophy Stadium</td>\n",
       "      <td>Birmingham</td>\n",
       "      <td>29409</td>\n",
       "      <td>Null</td>\n",
       "      <td>St. Andrew's Stadium, Birmingham, B9 4RL</td>\n",
       "      <td>105m x 68m</td>\n",
       "      <td>1906</td>\n",
       "      <td>0121 772 0101</td>\n",
       "    </tr>\n",
       "    <tr>\n",
       "      <th>4</th>\n",
       "      <td>137</td>\n",
       "      <td>Ewood Park</td>\n",
       "      <td>Blackburn</td>\n",
       "      <td>31367</td>\n",
       "      <td>Null</td>\n",
       "      <td>Ewood Park, Blackburn, Lancashire, BB2 4JF</td>\n",
       "      <td>105m x 68m</td>\n",
       "      <td>1882</td>\n",
       "      <td>0871 222 1444</td>\n",
       "    </tr>\n",
       "  </tbody>\n",
       "</table>\n",
       "</div>"
      ],
      "text/plain": [
       "   stadium_id                          stadium_name        city capacity  \\\n",
       "0         133                      Emirates Stadium      London    60260   \n",
       "1         134                            Villa Park  Birmingham    42682   \n",
       "2         135                               Oakwell    Barnsley    23009   \n",
       "3         136  St. Andrew's Trillion Trophy Stadium  Birmingham    29409   \n",
       "4         137                            Ewood Park   Blackburn    31367   \n",
       "\n",
       "                           record_pl_attendance  \\\n",
       "0  60,161 v Manchester United (3 November 2007)   \n",
       "1                                          Null   \n",
       "2                                          Null   \n",
       "3                                          Null   \n",
       "4                                          Null   \n",
       "\n",
       "                                           address  pitch_size built  \\\n",
       "0  Highbury House, 75 Drayton Park, London, N5 1BU  105m x 68m  2006   \n",
       "1     Villa Park, Trinity Road, Birmingham, B6 6HE  105m x 68m  1897   \n",
       "2         Oakwell, Grove Street, Barnsley, S71 1ET  100m x 68m  1887   \n",
       "3         St. Andrew's Stadium, Birmingham, B9 4RL  105m x 68m  1906   \n",
       "4       Ewood Park, Blackburn, Lancashire, BB2 4JF  105m x 68m  1882   \n",
       "\n",
       "                  phone  \n",
       "0  +44 (0) 20 7619 5003  \n",
       "1   +44 (0)121 327 5353  \n",
       "2    +44 (0)1226 211211  \n",
       "3         0121 772 0101  \n",
       "4         0871 222 1444  "
      ]
     },
     "execution_count": 86,
     "metadata": {},
     "output_type": "execute_result"
    }
   ],
   "source": [
    "df_stadium.head()"
   ]
  },
  {
   "attachments": {},
   "cell_type": "markdown",
   "metadata": {},
   "source": [
    "* Check Duplicates"
   ]
  },
  {
   "cell_type": "code",
   "execution_count": 87,
   "metadata": {},
   "outputs": [
    {
     "data": {
      "text/plain": [
       "0"
      ]
     },
     "execution_count": 87,
     "metadata": {},
     "output_type": "execute_result"
    }
   ],
   "source": [
    "df_stadium.duplicated().sum()"
   ]
  },
  {
   "attachments": {},
   "cell_type": "markdown",
   "metadata": {},
   "source": [
    "* Check Nulls"
   ]
  },
  {
   "cell_type": "code",
   "execution_count": 88,
   "metadata": {},
   "outputs": [
    {
     "data": {
      "text/plain": [
       "stadium_id               0\n",
       "stadium_name             0\n",
       "city                     1\n",
       "capacity                23\n",
       "record_pl_attendance    50\n",
       "address                 23\n",
       "pitch_size              23\n",
       "built                   23\n",
       "phone                   23\n",
       "dtype: int64"
      ]
     },
     "execution_count": 88,
     "metadata": {},
     "output_type": "execute_result"
    }
   ],
   "source": [
    "df_stadium = df_stadium.replace({'Null': np.nan,\n",
    "                                 '\\\\N': np.nan})\n",
    "df_stadium.isna().sum()"
   ]
  },
  {
   "cell_type": "code",
   "execution_count": 89,
   "metadata": {},
   "outputs": [],
   "source": [
    "df_stadium = df_stadium.drop(columns=df_stadium.columns[3:])"
   ]
  },
  {
   "cell_type": "code",
   "execution_count": 90,
   "metadata": {},
   "outputs": [
    {
     "data": {
      "text/html": [
       "<div>\n",
       "<style scoped>\n",
       "    .dataframe tbody tr th:only-of-type {\n",
       "        vertical-align: middle;\n",
       "    }\n",
       "\n",
       "    .dataframe tbody tr th {\n",
       "        vertical-align: top;\n",
       "    }\n",
       "\n",
       "    .dataframe thead th {\n",
       "        text-align: right;\n",
       "    }\n",
       "</style>\n",
       "<table border=\"1\" class=\"dataframe\">\n",
       "  <thead>\n",
       "    <tr style=\"text-align: right;\">\n",
       "      <th></th>\n",
       "      <th>stadium_id</th>\n",
       "      <th>stadium_name</th>\n",
       "      <th>city</th>\n",
       "    </tr>\n",
       "  </thead>\n",
       "  <tbody>\n",
       "    <tr>\n",
       "      <th>9</th>\n",
       "      <td>142</td>\n",
       "      <td>Brentford Community Stadium</td>\n",
       "      <td>NaN</td>\n",
       "    </tr>\n",
       "  </tbody>\n",
       "</table>\n",
       "</div>"
      ],
      "text/plain": [
       "   stadium_id                 stadium_name city\n",
       "9         142  Brentford Community Stadium  NaN"
      ]
     },
     "execution_count": 90,
     "metadata": {},
     "output_type": "execute_result"
    }
   ],
   "source": [
    "df_stadium[df_stadium.isna().any(axis=1)]"
   ]
  },
  {
   "cell_type": "code",
   "execution_count": 91,
   "metadata": {},
   "outputs": [],
   "source": [
    "df_stadium.loc[df_stadium.isna().any(axis=1), 'city'] = 'London'"
   ]
  },
  {
   "cell_type": "code",
   "execution_count": 92,
   "metadata": {},
   "outputs": [
    {
     "data": {
      "text/plain": [
       "stadium_id      0\n",
       "stadium_name    0\n",
       "city            0\n",
       "dtype: int64"
      ]
     },
     "execution_count": 92,
     "metadata": {},
     "output_type": "execute_result"
    }
   ],
   "source": [
    "df_stadium.isna().sum()"
   ]
  },
  {
   "attachments": {},
   "cell_type": "markdown",
   "metadata": {},
   "source": [
    "# Saving Cleaned Data"
   ]
  },
  {
   "cell_type": "code",
   "execution_count": 93,
   "metadata": {},
   "outputs": [
    {
     "data": {
      "text/plain": [
       "['club.csv',\n",
       " 'club_stats.csv',\n",
       " 'manager.csv',\n",
       " 'manager_club.csv',\n",
       " 'match.csv',\n",
       " 'player.csv',\n",
       " 'player_club.csv',\n",
       " 'player_performance.csv',\n",
       " 'player_stats.csv',\n",
       " 'stadium.csv']"
      ]
     },
     "execution_count": 93,
     "metadata": {},
     "output_type": "execute_result"
    }
   ],
   "source": [
    "files_names"
   ]
  },
  {
   "cell_type": "code",
   "execution_count": 94,
   "metadata": {},
   "outputs": [],
   "source": [
    "if not os.path.exists('../../dataset/clean/'):\n",
    "    os.mkdir('../../dataset/clean/')"
   ]
  },
  {
   "cell_type": "code",
   "execution_count": 95,
   "metadata": {},
   "outputs": [],
   "source": [
    "dataframes_to_save = [df_club, df_club_stats, df_manager, df_manager_club, df_match, df_player, df_player_club, df_player_performance, df_player_stats, df_stadium]\n",
    "\n",
    "for df, file_name in zip(dataframes_to_save, files_names):\n",
    "    df.to_csv('../../dataset/clean/'+file_name, index=False)"
   ]
  }
 ],
 "metadata": {
  "kernelspec": {
   "display_name": "Python 3",
   "language": "python",
   "name": "python3"
  },
  "language_info": {
   "codemirror_mode": {
    "name": "ipython",
    "version": 3
   },
   "file_extension": ".py",
   "mimetype": "text/x-python",
   "name": "python",
   "nbconvert_exporter": "python",
   "pygments_lexer": "ipython3",
   "version": "3.10.6"
  },
  "orig_nbformat": 4
 },
 "nbformat": 4,
 "nbformat_minor": 2
}
